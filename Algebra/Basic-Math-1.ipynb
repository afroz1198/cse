{
 "cells": [
  {
   "cell_type": "markdown",
   "metadata": {},
   "source": [
    "# Contents\n",
    "- [Binary Exponentiation](#Binary-Exponentiation)\n",
    "- [Modular-Exponentiation](#Modular-Exponentiation)\n",
    "- [Fibonacci-Numbers](#Fibonacci-Numbers)\n",
    "- [Greatest-Common-Divisor](#Greatest-Common-Divisor)\n",
    "- [Modular-Multiplicative-Inverse](#Modular-Multiplicative-Inverse)"
   ]
  },
  {
   "cell_type": "markdown",
   "metadata": {},
   "source": [
    "## Binary Exponentiation\n",
    "- storing answers that are `too large` for their respective datatypes is an `issue with this method`\n",
    "- In competitive exams,they use `(x**n)%C` for temporary answer\n",
    "- which is also called as [Modular Exponentiation](#Modular-Exponentiation)\n",
    "- ### Method\n",
    "    1.if `n` is even,replace  \\\\( x^n \\\\) with \\\\( ({x^2})^{n/2} \\\\) \\\n",
    "    2.if `n` is odd,replace  \\\\( x^n \\\\) with \\\\( x*x^{n-1} \\\\)\n",
    "\n",
    "\n"
   ]
  },
  {
   "cell_type": "markdown",
   "metadata": {},
   "source": [
    "### 1. Recursive \n",
    "- **Time**: O(*log*(n))\n",
    "- **Memory**:  O(*log*(n)) because a function call consumes memory and log N recursive function calls are made"
   ]
  },
  {
   "cell_type": "code",
   "execution_count": 91,
   "metadata": {
    "ExecuteTime": {
     "end_time": "2020-12-16T06:02:20.470566Z",
     "start_time": "2020-12-16T06:02:20.464374Z"
    }
   },
   "outputs": [],
   "source": [
    "def binaryExponentiation(x,n):\n",
    "    if n==0:\n",
    "        return 1;\n",
    "    elif n%2==1: # n is odd\n",
    "        return x*binaryExponentiation(x*x,(n-1)/2);\n",
    "    else: # n is even\n",
    "        return binaryExponentiation(x*x,n/2);\n",
    "        "
   ]
  },
  {
   "cell_type": "markdown",
   "metadata": {},
   "source": [
    "### 2. Iterative\n",
    "- **Time**: O(*log*(n))\n",
    "- **Memory**:  O(1) "
   ]
  },
  {
   "cell_type": "code",
   "execution_count": 25,
   "metadata": {
    "ExecuteTime": {
     "end_time": "2020-12-19T11:46:50.071625Z",
     "start_time": "2020-12-19T11:46:50.066948Z"
    }
   },
   "outputs": [],
   "source": [
    "def binaryExponentiation(x,n):    \n",
    "    result=1\n",
    "    while(n>0):\n",
    "        if(n % 2 ==1):\n",
    "            result=result * x\n",
    "            n = n-1\n",
    "            continue\n",
    "        x=x*x\n",
    "        n=n/2\n",
    "    return result\n"
   ]
  },
  {
   "cell_type": "code",
   "execution_count": null,
   "metadata": {
    "ExecuteTime": {
     "end_time": "2020-12-19T11:46:50.603407Z",
     "start_time": "2020-12-19T11:46:50.588796Z"
    }
   },
   "outputs": [],
   "source": [
    "binaryExponentiation(4,3)"
   ]
  },
  {
   "cell_type": "markdown",
   "metadata": {},
   "source": [
    "## Modular Exponentiation"
   ]
  },
  {
   "cell_type": "markdown",
   "metadata": {},
   "source": [
    "### 1. Recursive \n",
    "- **Time**: O(*log*(n))\n",
    "- **Memory**:  O(*log*(n)) because a function call consumes memory and log N recursive function calls are made"
   ]
  },
  {
   "cell_type": "code",
   "execution_count": 104,
   "metadata": {
    "ExecuteTime": {
     "end_time": "2020-12-16T06:05:04.474958Z",
     "start_time": "2020-12-16T06:05:04.472398Z"
    }
   },
   "outputs": [],
   "source": [
    "def modularExponentiation(x,n,C):\n",
    "    if n==0:\n",
    "        return 1;\n",
    "    elif n%2==1:\n",
    "        return x*modularExponentiation((x*x)%C,(n-1)/2,C)\n",
    "    else:\n",
    "        return modularExponentiation((x*x)%C,n/2,C)"
   ]
  },
  {
   "cell_type": "code",
   "execution_count": 126,
   "metadata": {
    "ExecuteTime": {
     "end_time": "2020-12-16T06:09:48.814945Z",
     "start_time": "2020-12-16T06:09:45.494089Z"
    }
   },
   "outputs": [
    {
     "name": "stdout",
     "output_type": "stream",
     "text": [
      "409 ns ± 8.28 ns per loop (mean ± std. dev. of 7 runs, 1000000 loops each)\n"
     ]
    }
   ],
   "source": [
    "%%timeit\n",
    "modularExponentiation(3,4,10**9+7)"
   ]
  },
  {
   "cell_type": "markdown",
   "metadata": {},
   "source": [
    "### 2. Iterative\n",
    "- **Time**: O(*log*(n))\n",
    "- **Memory**:  O(1) "
   ]
  },
  {
   "cell_type": "code",
   "execution_count": 24,
   "metadata": {
    "ExecuteTime": {
     "end_time": "2020-12-19T11:46:25.547256Z",
     "start_time": "2020-12-19T11:46:25.544653Z"
    }
   },
   "outputs": [],
   "source": [
    "def modularExponentiation(x,n,C):\n",
    "    result = 1\n",
    "    while n>0:\n",
    "        if n%2 == 1:\n",
    "            result = (result*x)%C\n",
    "            n = n-1\n",
    "        else:\n",
    "            x = (x*x)%C\n",
    "            n = n/2\n",
    "    return result"
   ]
  },
  {
   "cell_type": "code",
   "execution_count": 129,
   "metadata": {
    "ExecuteTime": {
     "end_time": "2020-12-16T06:22:59.903332Z",
     "start_time": "2020-12-16T06:22:56.634634Z"
    }
   },
   "outputs": [
    {
     "name": "stdout",
     "output_type": "stream",
     "text": [
      "407 ns ± 14 ns per loop (mean ± std. dev. of 7 runs, 1000000 loops each)\n"
     ]
    }
   ],
   "source": [
    "%%timeit\n",
    "modularExponentiation(3,4,10**9+7)"
   ]
  },
  {
   "cell_type": "markdown",
   "metadata": {},
   "source": [
    "## Fibonacci Numbers \n",
    "- check [Fibonacci](https://cp-algorithms.com/algebra/fibonacci-numbers.html)"
   ]
  },
  {
   "cell_type": "markdown",
   "metadata": {},
   "source": [
    "### 1.Using Recursion\n",
    "- **Time**: \\\\( O(2^n)\\\\)"
   ]
  },
  {
   "cell_type": "code",
   "execution_count": 132,
   "metadata": {
    "ExecuteTime": {
     "end_time": "2020-12-19T14:57:09.722093Z",
     "start_time": "2020-12-19T14:57:09.717816Z"
    },
    "code_folding": []
   },
   "outputs": [],
   "source": [
    "MOD=1000000007\n",
    "def fib(n):\n",
    "    if n==0:\n",
    "        return 0\n",
    "    elif n == 1:\n",
    "        return 1\n",
    "    return fib(n-1)+fib(n-2)"
   ]
  },
  {
   "cell_type": "code",
   "execution_count": 136,
   "metadata": {
    "ExecuteTime": {
     "end_time": "2020-12-19T14:59:12.076753Z",
     "start_time": "2020-12-19T14:59:09.647625Z"
    }
   },
   "outputs": [
    {
     "name": "stdout",
     "output_type": "stream",
     "text": [
      "2.99 ms ± 16.7 µs per loop (mean ± std. dev. of 7 runs, 100 loops each)\n"
     ]
    }
   ],
   "source": [
    "%%timeit\n",
    "fib(20)"
   ]
  },
  {
   "cell_type": "markdown",
   "metadata": {},
   "source": [
    "### 2.Using Iteration\n",
    "- **Time**: \\\\( O(n)\\\\)"
   ]
  },
  {
   "cell_type": "code",
   "execution_count": 234,
   "metadata": {
    "ExecuteTime": {
     "end_time": "2020-12-19T16:04:19.070614Z",
     "start_time": "2020-12-19T16:04:19.065174Z"
    }
   },
   "outputs": [],
   "source": [
    "MOD=1000000007\n",
    "def fib(n):\n",
    "    \"\"\"\n",
    "    returns f_n%MOD\n",
    "    \n",
    "    \"\"\"\n",
    "    #bottom-up/iterative approach\n",
    "    n1,n2 = 0,1\n",
    "    for i in range(1,n):\n",
    "        n3 = n1+n2\n",
    "        n1 = n2\n",
    "        n2 = n3\n",
    "    return n3%MOD"
   ]
  },
  {
   "cell_type": "code",
   "execution_count": 129,
   "metadata": {
    "ExecuteTime": {
     "end_time": "2020-12-19T14:56:55.994771Z",
     "start_time": "2020-12-19T14:56:44.658742Z"
    }
   },
   "outputs": [
    {
     "name": "stdout",
     "output_type": "stream",
     "text": [
      "14 µs ± 371 ns per loop (mean ± std. dev. of 7 runs, 100000 loops each)\n"
     ]
    }
   ],
   "source": [
    "%%timeit\n",
    "fib(200)"
   ]
  },
  {
   "cell_type": "markdown",
   "metadata": {},
   "source": [
    "### 3. Using Fast Doubling Method [Check for Fibonacci Identities](https://cp-algorithms.com/algebra/fibonacci-numbers.html#toc-tgt-5) \n",
    "- **Method**:\n",
    "    - \\\\(  F_{2n} = F_n(2F_{n+1}-F_n)\\\\)\n",
    "    - \\\\(  F_{2n+1} = F_{n+1}^2 + F_n^2\\\\)\n",
    "    - \\\\( F_{n+1} = F_{n-1}+F_n\\\\)\n",
    "    - [Proof](https://math.stackexchange.com/questions/1124590/need-help-understanding-fibonacci-fast-doubling-proof)\n",
    "- **Time**: \\\\( O(logn)\\\\)"
   ]
  },
  {
   "cell_type": "code",
   "execution_count": 230,
   "metadata": {
    "ExecuteTime": {
     "end_time": "2020-12-19T16:02:13.431683Z",
     "start_time": "2020-12-19T16:02:13.428800Z"
    }
   },
   "outputs": [],
   "source": [
    "MOD=1000000007\n",
    "def fib(n):\n",
    "    \"\"\"\n",
    "    returns (f_n%MOD,f_n+1%MOD)\n",
    "    \n",
    "    \"\"\"\n",
    "    if n==0:\n",
    "        return (0,1)\n",
    "    # go k to 0 without doing any calculations,then 0 to k with calculations -> stack magic\n",
    "    # also called recursive/top-down approach\n",
    "    (f_n,f_nplus1) = fib(n>>1) # n>>1 == n//2 ,cause we have doubled n -> 2n ,check proof\n",
    "    f_2n = (f_n*(2*f_nplus1 - f_n))%MOD\n",
    "    f_2nplus1 = (f_nplus1**2 + f_n**2)%MOD\n",
    "    \n",
    "    if n&1:\n",
    "        return (f_2nplus1,f_2n+f_2nplus1)\n",
    "    else:        \n",
    "        return (f_2n,f_2nplus1)"
   ]
  },
  {
   "cell_type": "code",
   "execution_count": 214,
   "metadata": {
    "ExecuteTime": {
     "end_time": "2020-12-19T15:56:28.870211Z",
     "start_time": "2020-12-19T15:56:26.208141Z"
    }
   },
   "outputs": [
    {
     "name": "stdout",
     "output_type": "stream",
     "text": [
      "32.7 µs ± 62.3 ns per loop (mean ± std. dev. of 7 runs, 10000 loops each)\n"
     ]
    }
   ],
   "source": [
    "%%timeit\n",
    "fib(10000)"
   ]
  },
  {
   "cell_type": "markdown",
   "metadata": {},
   "source": [
    "### 4.Using Matrix Form and Binary Exponentiation\n",
    "- **Method**:\n",
    " $$\\begin{align}\n",
    "\\begin{bmatrix} F(n+1) \\\\ F(n)\\end{bmatrix}\n",
    "    &=\n",
    "    \\begin{bmatrix} 1 & 1 \\\\ 1 & 0 \\end{bmatrix}\n",
    "    \\begin{bmatrix} F(n) \\\\ F(n-1)\\end{bmatrix} \\\\ &=\n",
    "    \\begin{bmatrix} 1 & 1 \\\\ 1 & 0 \\end{bmatrix}^2\n",
    "    \\begin{bmatrix} F(n-1) \\\\ F(n-2)\\end{bmatrix} \\\\ &=\n",
    "    \\begin{bmatrix} 1 & 1 \\\\ 1 & 0 \\end{bmatrix}^3\n",
    "    \\begin{bmatrix} F(n-1) \\\\ F(n-3)\\end{bmatrix} \\\\ & \\dots \\\\ &=\n",
    "    \\begin{bmatrix} 1 & 1 \\\\ 1 & 0 \\end{bmatrix}^n\n",
    "    \\begin{bmatrix} F(1) \\\\ F(0)\\end{bmatrix} \n",
    "    \\end{align}$$"
   ]
  },
  {
   "cell_type": "code",
   "execution_count": 9,
   "metadata": {
    "ExecuteTime": {
     "end_time": "2020-12-20T05:30:32.552160Z",
     "start_time": "2020-12-20T05:30:32.548131Z"
    }
   },
   "outputs": [],
   "source": [
    "MOD=1000000007\n",
    "def matmul(M, N):\n",
    "    \"\"\"\n",
    "    2x2 Matrix multiplication\n",
    "    \n",
    "    Parmeters\n",
    "    ---------\n",
    "    M: Matrix of size (2,2)\n",
    "    N: Matrix of size (2,2)\n",
    "    \n",
    "    \"\"\"\n",
    "    # List to store matrix multiplication result\n",
    "    R = [[0,0],[0,0]]\n",
    " \n",
    "    for i in range(0, 2): \n",
    "        for j in range(0, 2):\n",
    "            for k in range(0, 2): \n",
    "                R[i][j] += (M[i][k] * N[k][j])%MOD\n",
    "     \n",
    "    return R\n",
    "    # display mattrix\n",
    "#     for i in range(0, 2): \n",
    "#         for j in range(0, 2): \n",
    "#             # if we use print(), by default cursor moves to next line each time, \n",
    "#             # Now we can explicitly define ending character or sequence passing\n",
    "#             # second parameter as end =\"<character or string>\"\n",
    "#             # syntax: print(<variable or value to print>, end =\"<ending with>\")\n",
    "#             # Here space (\" \") is used to print a gape after printing \n",
    "#             # each element of R\n",
    "#             print(R[i][j], end =\" \")\n",
    "#         print()\n",
    "\n",
    "def binmatpow(mat,n):\n",
    "    \"\"\"\n",
    "    Binary Exponentiation on 2x2 matrix \n",
    "    \n",
    "    Parmeters\n",
    "    ---------\n",
    "    mat: Matrix of size 2x2\n",
    "    n: exponent\n",
    "    \"\"\"\n",
    "    \n",
    "    # Recursive #\n",
    "    \n",
    "#     if n==0:\n",
    "#         return mat\n",
    "#     elif n%2==1:\n",
    "#         return matmul(mat,binmatpow(matmul(mat,mat),(n-1)/2))\n",
    "#     else:\n",
    "#         return binmatpow(matmul(mat,mat),n/2)\n",
    "\n",
    "    # Iterative #\n",
    "    \n",
    "    res = mat\n",
    "    while n>0:\n",
    "        if n%2 == 1:\n",
    "            res = matmul(res,mat)\n",
    "            n = n-1\n",
    "            continue\n",
    "        mat = matmul(mat,mat)\n",
    "        n = n/2\n",
    "    return res\n",
    "\n",
    "def fib(n):\n",
    "    \"\"\"\n",
    "    returns f_n%MOD\n",
    "    \n",
    "    \"\"\"\n",
    "    transform_matrix = binmatpow([[1,1],[1,0]],n-2)\n",
    "    return transform_matrix[0][0]"
   ]
  },
  {
   "cell_type": "code",
   "execution_count": 216,
   "metadata": {
    "ExecuteTime": {
     "end_time": "2020-12-19T15:56:48.254864Z",
     "start_time": "2020-12-19T15:56:35.837588Z"
    }
   },
   "outputs": [
    {
     "name": "stdout",
     "output_type": "stream",
     "text": [
      "153 µs ± 2.93 µs per loop (mean ± std. dev. of 7 runs, 10000 loops each)\n"
     ]
    }
   ],
   "source": [
    "%%timeit\n",
    "fib(10000)"
   ]
  },
  {
   "cell_type": "markdown",
   "metadata": {
    "ExecuteTime": {
     "end_time": "2020-12-07T10:58:43.248943Z",
     "start_time": "2020-12-07T10:58:43.246751Z"
    }
   },
   "source": [
    "## Greatest Common Divisor"
   ]
  },
  {
   "cell_type": "markdown",
   "metadata": {},
   "source": [
    "### 1. GCD bruteforce\n",
    "- **Time**: \\\\( O(min(a, b)) \\\\)"
   ]
  },
  {
   "cell_type": "code",
   "execution_count": 44,
   "metadata": {
    "ExecuteTime": {
     "end_time": "2020-12-16T03:54:38.175822Z",
     "start_time": "2020-12-16T03:54:38.167374Z"
    }
   },
   "outputs": [],
   "source": [
    "def gcd_dumb(a,b):\n",
    "    m = min(a,b)\n",
    "    gcd = 0\n",
    "    for i in reversed(range(m)):\n",
    "        if a%i ==0 and b%i ==0:\n",
    "            gcd = i\n",
    "            return gcd\n"
   ]
  },
  {
   "cell_type": "code",
   "execution_count": 45,
   "metadata": {
    "ExecuteTime": {
     "end_time": "2020-12-16T03:54:46.057275Z",
     "start_time": "2020-12-16T03:54:38.391326Z"
    }
   },
   "outputs": [
    {
     "name": "stdout",
     "output_type": "stream",
     "text": [
      "9.44 ms ± 174 µs per loop (mean ± std. dev. of 7 runs, 100 loops each)\n"
     ]
    }
   ],
   "source": [
    "%%timeit\n",
    "gcd_dumb(120000,223212)"
   ]
  },
  {
   "cell_type": "markdown",
   "metadata": {},
   "source": [
    "### 2.  GCD (Euclid's Algorithm)\n",
    "- \\\\( GCD(A,B) = GCD(B,A\\%B) \\dots (1)\\\\)\n",
    "- **Time**: \\\\(  O(log(max(A,B))) \\\\)"
   ]
  },
  {
   "cell_type": "code",
   "execution_count": 48,
   "metadata": {
    "ExecuteTime": {
     "end_time": "2020-12-16T03:55:05.895750Z",
     "start_time": "2020-12-16T03:55:05.892824Z"
    }
   },
   "outputs": [],
   "source": [
    "def euclidean_gcd(a,b):\n",
    "    if b==0:\n",
    "        return a\n",
    "    else:\n",
    "        return euclidean_gcd(b,a%b)"
   ]
  },
  {
   "cell_type": "code",
   "execution_count": 49,
   "metadata": {
    "ExecuteTime": {
     "end_time": "2020-12-16T03:55:17.384591Z",
     "start_time": "2020-12-16T03:55:06.922980Z"
    }
   },
   "outputs": [
    {
     "name": "stdout",
     "output_type": "stream",
     "text": [
      "1.28 µs ± 29.7 ns per loop (mean ± std. dev. of 7 runs, 1000000 loops each)\n"
     ]
    }
   ],
   "source": [
    "%%timeit\n",
    "euclidean_gcd(120000,223212)"
   ]
  },
  {
   "cell_type": "markdown",
   "metadata": {},
   "source": [
    "### 3. GCD (Extended Euclid's Algorithm)\n",
    "- \\\\( A\\times x + B\\times y = GCD(A,B)  \\tag 1\\\\) where `x` is Modular Multiplicative inverse of `a%b` and `y` is Modular Multiplicative inverse of `b%a`\n",
    "- From Euclidean's, \\\\( GCD(A,B) = GCD(B,A\\%B)  \\tag 2\\\\)\n",
    "- sub (2) in (1),\\\\( B.x1+(A\\%B).y1 = GCD(B,A\\%B)  \\tag 3\\\\)\n",
    "- \\\\( A\\%B = A -\\lfloor{A/B}\\rfloor * B \\tag 4 \\\\)\n",
    "- sub (4) in (1),\\\\(  A.y1 + B.(x1-\\lfloor{A/B}\\rfloor.y1) = GCD(A,B) \\tag 5\\\\)\n",
    "- compare (5) with (1),we get $$\\begin{align} x=y1 \\tag 6\\\\ \n",
    "                                            y=x1-\\lfloor{A/B}\\rfloor.y1 \\tag 7\n",
    "                            \\end{align}$$\n",
    "- we can see that the algorithm ends with \\\\( B=0 \\\\) and \\\\( A=GCD(A,B)\\\\).For these parameters we can easily find coefficients, namely \\\\( GCD(A,B)⋅1+0⋅0=GCD(A,B) \\tag 8\\\\).\n",
    "-\\\\(  x,y = 0,1\\\\)\n",
    "\n",
    "\n",
    "- **Time**: \\\\( O(log(max(A,B))) \\\\)\n",
    "- also used to calculate [Modular-Multiplicative-Inverse](#5.-Modular-Multiplicative-Inverse-(using-extended_euclidean_gcd))\n",
    "\n"
   ]
  },
  {
   "cell_type": "markdown",
   "metadata": {},
   "source": [
    "### 3.1 Recursive(top-down) and use `%` operator"
   ]
  },
  {
   "cell_type": "code",
   "execution_count": 4,
   "metadata": {
    "ExecuteTime": {
     "end_time": "2020-12-20T05:23:24.781849Z",
     "start_time": "2020-12-20T05:23:24.777721Z"
    },
    "code_folding": []
   },
   "outputs": [
    {
     "data": {
      "text/plain": [
       "(5, -1, 1)"
      ]
     },
     "execution_count": 4,
     "metadata": {},
     "output_type": "execute_result"
    }
   ],
   "source": [
    "import math\n",
    "def extended_euclidean_gcd(A,B):\n",
    "    \"\"\"\n",
    "    Implements extended Euclidean Algo (Check Page-4 of Ref[1] / Ref[2])\n",
    "    A*x+B*y = GCD(A,B)\n",
    "    returns (gcd,x,y)\n",
    "    \n",
    "    gcd: GCD(A,B)\n",
    "    x: Modular Multiplicative inerse of (A%B) when A,B are coprime (i.e GCD(A,B)=1)\n",
    "    y: Modular Multiplicative inerse of (B%A) when A,B are coprime (i.e GCD(A,B)=1)\n",
    "    \n",
    "    Parameters\n",
    "    ----------\n",
    "    A : value1\n",
    "    B : value2\n",
    "    \n",
    "    \"\"\"\n",
    "    if B == 0:\n",
    "        gcd=A\n",
    "        x=1\n",
    "        y=0\n",
    "    else:\n",
    "        gcd,x,y = extended_euclidean_gcd(B,A%B)\n",
    "        temp = x\n",
    "        x = y\n",
    "        y = temp - math.floor(A/B)*y\n",
    "    return gcd,x,y\n",
    "extended_euclidean_gcd(10,15)"
   ]
  },
  {
   "cell_type": "code",
   "execution_count": 16,
   "metadata": {
    "ExecuteTime": {
     "end_time": "2020-12-20T07:40:18.120394Z",
     "start_time": "2020-12-20T07:40:16.271934Z"
    }
   },
   "outputs": [
    {
     "name": "stdout",
     "output_type": "stream",
     "text": [
      "2.27 µs ± 23 ns per loop (mean ± std. dev. of 7 runs, 100000 loops each)\n"
     ]
    }
   ],
   "source": [
    "%%timeit\n",
    "extended_euclidean_gcd(120000,223212)\n"
   ]
  },
  {
   "cell_type": "markdown",
   "metadata": {},
   "source": [
    "### 3.2 Recursive(top-down) and avoid `%` operator\n",
    "- \\\\( A\\%B = A -\\lfloor{A/B}\\rfloor * B\\\\)"
   ]
  },
  {
   "cell_type": "code",
   "execution_count": 13,
   "metadata": {
    "ExecuteTime": {
     "end_time": "2020-12-20T07:39:17.425586Z",
     "start_time": "2020-12-20T07:39:17.422708Z"
    }
   },
   "outputs": [],
   "source": [
    "def extended_euclidean_gcd_noMod(A,B):\n",
    "    \"\"\"\n",
    "    Implements extended Euclidean Algo (Check Page-4 of Ref[1] / Ref[2])\n",
    "    A*x+B*y = GCD(A,B)\n",
    "    returns (gcd,x,y)\n",
    "    \n",
    "    gcd: GCD(A,B)\n",
    "    x: Modular Multiplicative inerse of (A%B) when A,B are coprime (i.e GCD(A,B)=1)\n",
    "    y: Modular Multiplicative inerse of (B%A) when A,B are coprime (i.e GCD(A,B)=1)\n",
    "    \n",
    "    Parameters\n",
    "    ----------\n",
    "    A : value1\n",
    "    B : value2\n",
    "    \n",
    "    \"\"\"\n",
    "    if B == 0:\n",
    "        gcd=A\n",
    "        x=1\n",
    "        y=0\n",
    "    else:\n",
    "        Q = A//B\n",
    "        gcd,x,y = extended_euclidean_gcd_noMod(B,A-Q*B)\n",
    "        temp = x\n",
    "        x = y\n",
    "        y = temp -Q*y\n",
    "    return gcd,x,y\n",
    "extended_euclidean_gcd_noMod(10,15)"
   ]
  },
  {
   "cell_type": "code",
   "execution_count": 15,
   "metadata": {
    "ExecuteTime": {
     "end_time": "2020-12-20T07:40:15.293246Z",
     "start_time": "2020-12-20T07:40:01.468706Z"
    }
   },
   "outputs": [
    {
     "name": "stdout",
     "output_type": "stream",
     "text": [
      "1.69 µs ± 24.7 ns per loop (mean ± std. dev. of 7 runs, 1000000 loops each)\n"
     ]
    }
   ],
   "source": [
    "%%timeit\n",
    "extended_euclidean_gcd_noMod(120000,223212)"
   ]
  },
  {
   "cell_type": "markdown",
   "metadata": {},
   "source": [
    "### 3.3 Iterative(Bottom-up) and avoid `%`\n"
   ]
  },
  {
   "cell_type": "code",
   "execution_count": 31,
   "metadata": {
    "ExecuteTime": {
     "end_time": "2020-12-20T08:19:22.715634Z",
     "start_time": "2020-12-20T08:19:22.711633Z"
    }
   },
   "outputs": [
    {
     "data": {
      "text/plain": [
       "(5, -1, 1)"
      ]
     },
     "execution_count": 31,
     "metadata": {},
     "output_type": "execute_result"
    }
   ],
   "source": [
    "def extended_euclidean_gcd_iter(A,B):\n",
    "    \"\"\"\n",
    "    Implements extended Euclidean Algo (Check Page-4 of Ref[1] / Ref[2])\n",
    "    A*x+B*y = GCD(A,B)\n",
    "    returns (gcd,x,y)\n",
    "    \n",
    "    a1: GCD(A,B)\n",
    "    x: Modular Multiplicative inerse of (A%B) when A,B are coprime (i.e GCD(A,B)=1)\n",
    "    y: Modular Multiplicative inerse of (B%A) when A,B are coprime (i.e GCD(A,B)=1)\n",
    "    \n",
    "    Parameters\n",
    "    ----------\n",
    "    A : value1\n",
    "    B : value2\n",
    "    \n",
    "    \"\"\"\n",
    "    x=1;y=0;x1=0;y1=1;\n",
    "    while B>0:\n",
    "        q = A//B\n",
    "        x,x1 = x1,x-q*x1\n",
    "        y,y1 = y1,y-q*y1\n",
    "        A,B = B,A-q*B\n",
    "    return (A,x,y)\n",
    "extended_euclidean_gcd_iter(10,15)"
   ]
  },
  {
   "cell_type": "code",
   "execution_count": 29,
   "metadata": {
    "ExecuteTime": {
     "end_time": "2020-12-20T07:52:05.246884Z",
     "start_time": "2020-12-20T07:51:53.096092Z"
    }
   },
   "outputs": [
    {
     "name": "stdout",
     "output_type": "stream",
     "text": [
      "1.5 µs ± 41.7 ns per loop (mean ± std. dev. of 7 runs, 1000000 loops each)\n"
     ]
    }
   ],
   "source": [
    "%%timeit\n",
    "extended_euclidean_gcd_iter(120000,223212)"
   ]
  },
  {
   "cell_type": "markdown",
   "metadata": {},
   "source": [
    "## Modular Multiplicative Inverse"
   ]
  },
  {
   "cell_type": "markdown",
   "metadata": {},
   "source": [
    "### Note: An inverse exists only when A and C are coprime i.e GCD(A,C)=1"
   ]
  },
  {
   "cell_type": "markdown",
   "metadata": {},
   "source": [
    "### 1. Modular Multiplicative Inverse (Naive Approach)\n",
    "- **Time**: O(C)\n"
   ]
  },
  {
   "cell_type": "code",
   "execution_count": 131,
   "metadata": {
    "ExecuteTime": {
     "end_time": "2020-12-16T06:21:17.567288Z",
     "start_time": "2020-12-16T06:21:17.564297Z"
    }
   },
   "outputs": [],
   "source": [
    "def mod_inverse(A,C):\n",
    "    \"\"\"\n",
    "    returns Modular Multiplicative Inverse (A*B)%C=1 where B=A**-1 and B should be in [1,C-1]\n",
    "    uses BruteForce Approach\n",
    "    \n",
    "    Parameters\n",
    "    ----------\n",
    "    A : value\n",
    "    C : Mod value\n",
    "    \"\"\"\n",
    "    A = A%C\n",
    "    for B in range(1,C):\n",
    "        if (A*B)%C == 1:\n",
    "            return B\n",
    "        "
   ]
  },
  {
   "cell_type": "code",
   "execution_count": 132,
   "metadata": {
    "ExecuteTime": {
     "end_time": "2020-12-16T06:21:20.833941Z",
     "start_time": "2020-12-16T06:21:18.395282Z"
    }
   },
   "outputs": [
    {
     "name": "stdout",
     "output_type": "stream",
     "text": [
      "30 µs ± 1.08 µs per loop (mean ± std. dev. of 7 runs, 10000 loops each)\n"
     ]
    }
   ],
   "source": [
    "%%timeit\n",
    "mod_inverse(1007,1009)"
   ]
  },
  {
   "cell_type": "markdown",
   "metadata": {},
   "source": [
    "### 2. Modular Multiplicative Inverse (using [extended_euclidean_gcd](#3.-GCD-(Extended-Euclid's-Algorithm)))\n",
    "- **Time**: \\\\( O(log(max(A,C))) \\\\)"
   ]
  },
  {
   "cell_type": "code",
   "execution_count": 133,
   "metadata": {
    "ExecuteTime": {
     "end_time": "2020-12-16T06:21:20.838287Z",
     "start_time": "2020-12-16T06:21:20.835925Z"
    }
   },
   "outputs": [],
   "source": [
    "def mod_inverse_eea(A,C):\n",
    "    \"\"\"\n",
    "    returns Modular Multiplicative Inverse (A*B)%C=1 where B=A**-1 and B should be in [1,C-1]\n",
    "    uses extended Euclidean algo \n",
    "    \n",
    "    Parameters\n",
    "    ----------\n",
    "    A : value\n",
    "    C : Mod value\n",
    "    \n",
    "    \"\"\"\n",
    "    extended_euclidean_gcd(A,C)\n",
    "    return (x%C+C)%C # because x could be negative (Check Page-3 of Ref[1]/ Ref[2]-> Extended Euclidean algorithm)\n",
    "    \n",
    "    "
   ]
  },
  {
   "cell_type": "code",
   "execution_count": 42,
   "metadata": {
    "ExecuteTime": {
     "end_time": "2020-12-16T03:53:04.616364Z",
     "start_time": "2020-12-16T03:53:02.820559Z"
    }
   },
   "outputs": [
    {
     "name": "stdout",
     "output_type": "stream",
     "text": [
      "2.19 µs ± 64.9 ns per loop (mean ± std. dev. of 7 runs, 100000 loops each)\n"
     ]
    }
   ],
   "source": [
    "%%timeit\n",
    "mod_inverse_eea(1007,1009)"
   ]
  },
  {
   "cell_type": "markdown",
   "metadata": {},
   "source": [
    "### Note: `Fermat's Little Theorem` only works when C is Prime"
   ]
  },
  {
   "cell_type": "markdown",
   "metadata": {},
   "source": [
    "### 3. Modular Multiplicative Inverse (using `Fermat's Little Theorem`) ,uses [modularExponentiation](#Modular-Exponentiation))\n",
    "- **Time**: \\\\( O(log(m)) \\\\)\n",
    "- Ref[3] for **fermat's theorem**"
   ]
  },
  {
   "cell_type": "code",
   "execution_count": 135,
   "metadata": {
    "ExecuteTime": {
     "end_time": "2020-12-16T06:25:16.387444Z",
     "start_time": "2020-12-16T06:25:16.385408Z"
    }
   },
   "outputs": [],
   "source": [
    "def mod_inverse_flt(A,C):\n",
    "    return modularExponentiation(A,C-2,C)"
   ]
  },
  {
   "cell_type": "code",
   "execution_count": 138,
   "metadata": {
    "ExecuteTime": {
     "end_time": "2020-12-16T06:27:19.895599Z",
     "start_time": "2020-12-16T06:27:17.765241Z"
    }
   },
   "outputs": [
    {
     "name": "stdout",
     "output_type": "stream",
     "text": [
      "2.62 µs ± 51.5 ns per loop (mean ± std. dev. of 7 runs, 100000 loops each)\n"
     ]
    }
   ],
   "source": [
    "%%timeit\n",
    "mod_inverse_flt(1007,1009)"
   ]
  },
  {
   "cell_type": "markdown",
   "metadata": {},
   "source": [
    "##  Refereces\n",
    "1. Notes (Modular Arithmetic)\n",
    "2. https://www.hackerearth.com/practice/math/number-theory/basic-number-theory-1/tutorial/\n",
    "3. https://en.wikipedia.org/wiki/Fermat%27s_little_theorem\n",
    "4. https://www.khanacademy.org/computing/computer-science/cryptography/modarithmetic/a/the-euclidean-algorithm"
   ]
  },
  {
   "cell_type": "code",
   "execution_count": null,
   "metadata": {},
   "outputs": [],
   "source": []
  }
 ],
 "metadata": {
  "kernelspec": {
   "display_name": "Python 3",
   "language": "python",
   "name": "python3"
  },
  "language_info": {
   "codemirror_mode": {
    "name": "ipython",
    "version": 3
   },
   "file_extension": ".py",
   "mimetype": "text/x-python",
   "name": "python",
   "nbconvert_exporter": "python",
   "pygments_lexer": "ipython3",
   "version": "3.8.5"
  }
 },
 "nbformat": 4,
 "nbformat_minor": 4
}
