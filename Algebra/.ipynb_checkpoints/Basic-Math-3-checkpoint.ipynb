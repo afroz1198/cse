{
 "cells": [
  {
   "cell_type": "markdown",
   "metadata": {},
   "source": [
    "## Linear DioPhantine equations "
   ]
  },
  {
   "cell_type": "markdown",
   "metadata": {},
   "source": [
    "#### A Linear Diophantine Equation (in two variables) is an equation of the general form:\n",
    "\\\\[ ax+by=c \\tag{1}\\\\]\n",
    "where \\\\( a,b,c \\\\) are given integers and \\\\( x,y\\\\) are unknown integers\n",
    "###### so,we consider several classical problems on these equations:\n",
    "- [Finding one solution](#1.Finding-a-solution)\n",
    "- [finding all solutions]()\n",
    "- [finding the number of solutions and the solutions themselves in a given interval]()\n",
    "- [finding a solution with minimum value of x+y]()\n",
    "\n",
    "###### Note: A degenerate case that need to be taken care of is when `a=b=0`. It is easy to see that we either have no solutions or infinitely many solutions, depending on whether c=0 or not."
   ]
  },
  {
   "cell_type": "markdown",
   "metadata": {},
   "source": [
    "### 1.Finding a solution\n",
    "**Method**:\n",
    "To find one solution of the Diophantine equation with 2 unknowns, you can use the Extended Euclidean algorithm. First, assume that a and b are non-negative. When we apply `Extended Euclidean algorithm` for `a` and `b`, we can find their greatest common divisor `g` and 2 numbers \\\\( x_g\\\\) and \\\\( y_g\\\\) such that:\n",
    "\n",
    "\\\\[ ax_g+by_g=g \\\\] where `g = gcd(a,b)`\n",
    "convert above equation into `eq(1)` by multiplying `c/g` on bothsides,we get\n",
    "\\\\[ a.x_g.\\left(\\frac{c}{g}\\right)+b.y_g.\\left(\\frac{c}{g}\\right) = c \\\\]\n",
    "so,compare with `eq(1)` \\\\[ x = x_g.\\left(\\frac{c}{g}\\right),y=y_g.\\left(\\frac{c}{g}\\right) \\tag{2}\\\\]"
   ]
  },
  {
   "cell_type": "code",
   "execution_count": 5,
   "metadata": {
    "ExecuteTime": {
     "end_time": "2020-12-25T07:48:13.484785Z",
     "start_time": "2020-12-25T07:48:13.482133Z"
    }
   },
   "outputs": [],
   "source": [
    "from BasicMath1 import gcdExtendedEuclidImprovedIterative"
   ]
  },
  {
   "cell_type": "code",
   "execution_count": 11,
   "metadata": {
    "ExecuteTime": {
     "end_time": "2020-12-25T07:52:50.881306Z",
     "start_time": "2020-12-25T07:52:50.877437Z"
    }
   },
   "outputs": [],
   "source": [
    "def findOneSolution(a,b,c):\n",
    "    (g,x_g,y_g) = gcdExtendedEuclidImprovedIterative(a,b)\n",
    "    if c%g:\n",
    "        return False\n",
    "    x_0 = x_g*(c//g)\n",
    "    y_0 = y_g*(c//g)\n",
    "    if a<0:\n",
    "        x_0 = -x_0\n",
    "    if b<0:\n",
    "        y_0 = -y_0\n",
    "    return (x_0,y_0)"
   ]
  },
  {
   "cell_type": "code",
   "execution_count": null,
   "metadata": {},
   "outputs": [],
   "source": []
  }
 ],
 "metadata": {
  "kernelspec": {
   "display_name": "Python 3",
   "language": "python",
   "name": "python3"
  },
  "language_info": {
   "codemirror_mode": {
    "name": "ipython",
    "version": 3
   },
   "file_extension": ".py",
   "mimetype": "text/x-python",
   "name": "python",
   "nbconvert_exporter": "python",
   "pygments_lexer": "ipython3",
   "version": "3.8.5"
  }
 },
 "nbformat": 4,
 "nbformat_minor": 4
}
