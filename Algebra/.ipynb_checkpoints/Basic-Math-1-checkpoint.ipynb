{
 "cells": [
  {
   "cell_type": "markdown",
   "metadata": {},
   "source": [
    "# Contents\n",
    "- [Binary Exponentiation](#Binary-Exponentiation)\n",
    "- [Modular-Exponentiation](#Modular-Exponentiation)\n",
    "- [Fibonacci-Numbers](#Fibonacci-Numbers)\n",
    "- [Greatest-Common-Divisor](#Greatest-Common-Divisor)\n",
    "- [Modular-Multiplicative-Inverse](#Modular-Multiplicative-Inverse)"
   ]
  },
  {
   "cell_type": "markdown",
   "metadata": {},
   "source": [
    "## Binary Exponentiation\n",
    "- storing answers that are `too large` for their respective datatypes is an `issue with this method`\n",
    "- In competitive exams,they use `(x**n)%C` for temporary answer\n",
    "- which is also called as [Modular Exponentiation](#Modular-Exponentiation)\n",
    "- ### Method\n",
    "    1.if `n` is even,replace  \\\\( x^n \\\\) with \\\\( ({x^2})^{n/2} \\\\) \\\n",
    "    2.if `n` is odd,replace  \\\\( x^n \\\\) with \\\\( x*x^{n-1} \\\\)\n",
    "\n",
    "\n"
   ]
  },
  {
   "cell_type": "markdown",
   "metadata": {},
   "source": [
    "### 1. Recursive \n",
    "- **Time**: O(*log*(n))\n",
    "- **Memory**:  O(*log*(n)) because a function call consumes memory and log N recursive function calls are made"
   ]
  },
  {
   "cell_type": "code",
   "execution_count": 3,
   "metadata": {
    "ExecuteTime": {
     "end_time": "2020-12-25T07:30:39.884030Z",
     "start_time": "2020-12-25T07:30:39.877995Z"
    }
   },
   "outputs": [],
   "source": [
    "def binaryExponentiationRecursive(x,n):\n",
    "    if n==0:\n",
    "        return 1;\n",
    "    elif n%2==1: # n is odd\n",
    "        return x*binaryExponentiationRecursive(x*x,(n-1)/2);\n",
    "    else: # n is even\n",
    "        return binaryExponentiationRecursive(x*x,n/2);\n",
    "        "
   ]
  },
  {
   "cell_type": "code",
   "execution_count": null,
   "metadata": {},
   "outputs": [],
   "source": [
    "%%timeit\n",
    "binaryExponentiationRecursive(245,20)"
   ]
  },
  {
   "cell_type": "markdown",
   "metadata": {},
   "source": [
    "### 2. Iterative\n",
    "- **Time**: O(*log*(n))\n",
    "- **Memory**:  O(1) "
   ]
  },
  {
   "cell_type": "code",
   "execution_count": 25,
   "metadata": {
    "ExecuteTime": {
     "end_time": "2020-12-19T11:46:50.071625Z",
     "start_time": "2020-12-19T11:46:50.066948Z"
    }
   },
   "outputs": [],
   "source": [
    "def binaryExponentiationIterative(x,n):    \n",
    "    result=1\n",
    "    while(n>0):\n",
    "        if(n % 2 ==1):\n",
    "            result=result * x\n",
    "            n = n-1\n",
    "            continue\n",
    "        x=x*x\n",
    "        n=n/2\n",
    "    return result\n"
   ]
  },
  {
   "cell_type": "code",
   "execution_count": null,
   "metadata": {
    "ExecuteTime": {
     "end_time": "2020-12-19T11:46:50.603407Z",
     "start_time": "2020-12-19T11:46:50.588796Z"
    }
   },
   "outputs": [],
   "source": [
    "%%timeit\n",
    "binaryExponentiationIterative(245,20)"
   ]
  },
  {
   "cell_type": "markdown",
   "metadata": {},
   "source": [
    "## Modular Exponentiation"
   ]
  },
  {
   "cell_type": "markdown",
   "metadata": {},
   "source": [
    "### 1. Recursive \n",
    "- **Time**: O(*log*(n))\n",
    "- **Memory**:  O(*log*(n)) because a function call consumes memory and log N recursive function calls are made"
   ]
  },
  {
   "cell_type": "code",
   "execution_count": 4,
   "metadata": {
    "ExecuteTime": {
     "end_time": "2020-12-25T07:30:47.245896Z",
     "start_time": "2020-12-25T07:30:47.242518Z"
    }
   },
   "outputs": [],
   "source": [
    "def modularExponentiationRecursive(x,n,C):\n",
    "    if n==0:\n",
    "        return 1;\n",
    "    elif n%2==1:\n",
    "        return x*modularExponentiationRecursive((x*x)%C,(n-1)/2,C)\n",
    "    else:\n",
    "        return modularExponentiationRecursive((x*x)%C,n/2,C)"
   ]
  },
  {
   "cell_type": "code",
   "execution_count": 5,
   "metadata": {
    "ExecuteTime": {
     "end_time": "2020-12-25T07:30:49.245599Z",
     "start_time": "2020-12-25T07:30:47.552677Z"
    }
   },
   "outputs": [
    {
     "name": "stdout",
     "output_type": "stream",
     "text": [
      "2.05 µs ± 54.3 ns per loop (mean ± std. dev. of 7 runs, 100000 loops each)\n"
     ]
    }
   ],
   "source": [
    "%%timeit\n",
    "modularExponentiationRecursive(245,20,10**9+7)"
   ]
  },
  {
   "cell_type": "markdown",
   "metadata": {},
   "source": [
    "### 2. Iterative\n",
    "- **Time**: O(*log*(n))\n",
    "- **Memory**:  O(1) "
   ]
  },
  {
   "cell_type": "code",
   "execution_count": 6,
   "metadata": {
    "ExecuteTime": {
     "end_time": "2020-12-25T07:30:50.812786Z",
     "start_time": "2020-12-25T07:30:50.809454Z"
    }
   },
   "outputs": [],
   "source": [
    "def modularExponentiationIterative(x,n,C):\n",
    "    result = 1\n",
    "    while n>0:\n",
    "        if n%2 == 1:\n",
    "            result = (result*x)%C\n",
    "            n = n-1\n",
    "        else:\n",
    "            x = (x*x)%C\n",
    "            n = n/2\n",
    "    return result"
   ]
  },
  {
   "cell_type": "code",
   "execution_count": 8,
   "metadata": {
    "ExecuteTime": {
     "end_time": "2020-12-25T07:31:20.215578Z",
     "start_time": "2020-12-25T07:31:05.630620Z"
    }
   },
   "outputs": [
    {
     "name": "stdout",
     "output_type": "stream",
     "text": [
      "1.8 µs ± 57.6 ns per loop (mean ± std. dev. of 7 runs, 1000000 loops each)\n"
     ]
    }
   ],
   "source": [
    "%%timeit\n",
    "modularExponentiationIterative(245,20,10**9+7)"
   ]
  },
  {
   "cell_type": "markdown",
   "metadata": {},
   "source": [
    "## Fibonacci Numbers \n",
    "- check [Fibonacci](https://cp-algorithms.com/algebra/fibonacci-numbers.html)"
   ]
  },
  {
   "cell_type": "markdown",
   "metadata": {},
   "source": [
    "### 1.Using Recursion\n",
    "- **Time**: \\\\( O(2^n)\\\\)"
   ]
  },
  {
   "cell_type": "code",
   "execution_count": 132,
   "metadata": {
    "ExecuteTime": {
     "end_time": "2020-12-19T14:57:09.722093Z",
     "start_time": "2020-12-19T14:57:09.717816Z"
    },
    "code_folding": []
   },
   "outputs": [],
   "source": [
    "MOD=1000000007\n",
    "def fibRecursive(n):\n",
    "    if n==0:\n",
    "        return 0\n",
    "    elif n == 1:\n",
    "        return 1\n",
    "    return fibRecursive(n-1)+fibRecursive(n-2)"
   ]
  },
  {
   "cell_type": "code",
   "execution_count": 136,
   "metadata": {
    "ExecuteTime": {
     "end_time": "2020-12-19T14:59:12.076753Z",
     "start_time": "2020-12-19T14:59:09.647625Z"
    }
   },
   "outputs": [
    {
     "name": "stdout",
     "output_type": "stream",
     "text": [
      "2.99 ms ± 16.7 µs per loop (mean ± std. dev. of 7 runs, 100 loops each)\n"
     ]
    }
   ],
   "source": [
    "%%timeit\n",
    "fibRecursive(20)"
   ]
  },
  {
   "cell_type": "markdown",
   "metadata": {},
   "source": [
    "### 2.Using Iteration\n",
    "- **Time**: \\\\( O(n)\\\\)"
   ]
  },
  {
   "cell_type": "code",
   "execution_count": 234,
   "metadata": {
    "ExecuteTime": {
     "end_time": "2020-12-19T16:04:19.070614Z",
     "start_time": "2020-12-19T16:04:19.065174Z"
    }
   },
   "outputs": [],
   "source": [
    "MOD=1000000007\n",
    "def fibIterative(n):\n",
    "    \"\"\"\n",
    "    returns f_n%MOD\n",
    "    \n",
    "    \"\"\"\n",
    "    #bottom-up/iterative approach\n",
    "    n1,n2 = 0,1\n",
    "    for i in range(1,n):\n",
    "        n3 = n1+n2\n",
    "        n1 = n2\n",
    "        n2 = n3\n",
    "    return n3%MOD"
   ]
  },
  {
   "cell_type": "code",
   "execution_count": 129,
   "metadata": {
    "ExecuteTime": {
     "end_time": "2020-12-19T14:56:55.994771Z",
     "start_time": "2020-12-19T14:56:44.658742Z"
    }
   },
   "outputs": [
    {
     "name": "stdout",
     "output_type": "stream",
     "text": [
      "14 µs ± 371 ns per loop (mean ± std. dev. of 7 runs, 100000 loops each)\n"
     ]
    }
   ],
   "source": [
    "%%timeit\n",
    "fibIterative(200)"
   ]
  },
  {
   "cell_type": "markdown",
   "metadata": {},
   "source": [
    "### 3. Using Fast Doubling Method [Check for Fibonacci Identities](https://cp-algorithms.com/algebra/fibonacci-numbers.html#toc-tgt-5) \n",
    "- **Method**:\n",
    "    - \\\\(  F_{2n} = F_n(2F_{n+1}-F_n)\\\\)\n",
    "    - \\\\(  F_{2n+1} = F_{n+1}^2 + F_n^2\\\\)\n",
    "    - \\\\( F_{n+1} = F_{n-1}+F_n\\\\)\n",
    "    - [Proof](https://math.stackexchange.com/questions/1124590/need-help-understanding-fibonacci-fast-doubling-proof)\n",
    "- **Time**: \\\\( O(logn)\\\\)"
   ]
  },
  {
   "cell_type": "code",
   "execution_count": 9,
   "metadata": {
    "ExecuteTime": {
     "end_time": "2020-12-25T07:31:45.115310Z",
     "start_time": "2020-12-25T07:31:45.110982Z"
    }
   },
   "outputs": [],
   "source": [
    "MOD=1000000007\n",
    "def fibFastDoubling(n):\n",
    "    \"\"\"\n",
    "    returns (f_n%MOD,f_n+1%MOD)\n",
    "    \n",
    "    \"\"\"\n",
    "    if n==0:\n",
    "        return (0,1)\n",
    "    # go k to 0 without doing any calculations,then 0 to k with calculations -> stack magic\n",
    "    # also called recursive/top-down approach\n",
    "    (f_n,f_nplus1) = fibFastDoubling(n>>1) # n>>1 == n//2 ,cause we have doubled n -> 2n ,check proof\n",
    "    f_2n = (f_n*(2*f_nplus1 - f_n))%MOD\n",
    "    f_2nplus1 = (f_nplus1**2 + f_n**2)%MOD\n",
    "    \n",
    "    if n&1:\n",
    "        return (f_2nplus1,f_2n+f_2nplus1)\n",
    "    else:        \n",
    "        return (f_2n,f_2nplus1)"
   ]
  },
  {
   "cell_type": "code",
   "execution_count": 10,
   "metadata": {
    "ExecuteTime": {
     "end_time": "2020-12-25T07:31:58.085962Z",
     "start_time": "2020-12-25T07:31:45.573178Z"
    }
   },
   "outputs": [
    {
     "name": "stdout",
     "output_type": "stream",
     "text": [
      "15.5 µs ± 379 ns per loop (mean ± std. dev. of 7 runs, 100000 loops each)\n"
     ]
    }
   ],
   "source": [
    "%%timeit\n",
    "fibFastDoubling(10000)"
   ]
  },
  {
   "cell_type": "markdown",
   "metadata": {},
   "source": [
    "### 4.Using Matrix Form and Binary Exponentiation\n",
    "- **Method**:\n",
    " $$\\begin{align}\n",
    "\\begin{bmatrix} F(n+1) \\\\ F(n)\\end{bmatrix}\n",
    "    &=\n",
    "    \\begin{bmatrix} 1 & 1 \\\\ 1 & 0 \\end{bmatrix}\n",
    "    \\begin{bmatrix} F(n) \\\\ F(n-1)\\end{bmatrix} \\\\ &=\n",
    "    \\begin{bmatrix} 1 & 1 \\\\ 1 & 0 \\end{bmatrix}^2\n",
    "    \\begin{bmatrix} F(n-1) \\\\ F(n-2)\\end{bmatrix} \\\\ &=\n",
    "    \\begin{bmatrix} 1 & 1 \\\\ 1 & 0 \\end{bmatrix}^3\n",
    "    \\begin{bmatrix} F(n-1) \\\\ F(n-3)\\end{bmatrix} \\\\ & \\dots \\\\ &=\n",
    "    \\begin{bmatrix} 1 & 1 \\\\ 1 & 0 \\end{bmatrix}^n\n",
    "    \\begin{bmatrix} F(1) \\\\ F(0)\\end{bmatrix} \n",
    "    \\end{align}$$"
   ]
  },
  {
   "cell_type": "code",
   "execution_count": 15,
   "metadata": {
    "ExecuteTime": {
     "end_time": "2020-12-25T07:35:28.846184Z",
     "start_time": "2020-12-25T07:35:28.839747Z"
    }
   },
   "outputs": [],
   "source": [
    "MOD=1000000007\n",
    "def matmul(M, N):\n",
    "    \"\"\"\n",
    "    2x2 Matrix multiplication\n",
    "    \n",
    "    Parmeters\n",
    "    ---------\n",
    "    M: Matrix of size (2,2)\n",
    "    N: Matrix of size (2,2)\n",
    "    \n",
    "    \"\"\"\n",
    "    # List to store matrix multiplication result\n",
    "    R = [[0,0],[0,0]]\n",
    " \n",
    "    for i in range(0, 2): \n",
    "        for j in range(0, 2):\n",
    "            for k in range(0, 2): \n",
    "                R[i][j] += (M[i][k] * N[k][j])%MOD\n",
    "     \n",
    "    return R\n",
    "    # display mattrix\n",
    "#     for i in range(0, 2): \n",
    "#         for j in range(0, 2): \n",
    "#             # if we use print(), by default cursor moves to next line each time, \n",
    "#             # Now we can explicitly define ending character or sequence passing\n",
    "#             # second parameter as end =\"<character or string>\"\n",
    "#             # syntax: print(<variable or value to print>, end =\"<ending with>\")\n",
    "#             # Here space (\" \") is used to print a gape after printing \n",
    "#             # each element of R\n",
    "#             print(R[i][j], end =\" \")\n",
    "#         print()\n",
    "\n",
    "def matBinExpo(mat,n):\n",
    "    \"\"\"\n",
    "    Binary Exponentiation on 2x2 matrix \n",
    "    \n",
    "    Parmeters\n",
    "    ---------\n",
    "    mat: Matrix of size 2x2\n",
    "    n: exponent\n",
    "    \"\"\"\n",
    "    \n",
    "    # Recursive #\n",
    "    \n",
    "#     if n==0:\n",
    "#         return mat\n",
    "#     elif n%2==1:\n",
    "#         return matmul(mat,binmatpow(matmul(mat,mat),(n-1)/2))\n",
    "#     else:\n",
    "#         return binmatpow(matmul(mat,mat),n/2)\n",
    "\n",
    "    # Iterative #\n",
    "    \n",
    "    res = mat\n",
    "    while n>0:\n",
    "        if n%2 == 1:\n",
    "            res = matmul(res,mat)\n",
    "            n = n-1\n",
    "            continue\n",
    "        mat = matmul(mat,mat)\n",
    "        n = n/2\n",
    "    return res\n",
    "\n",
    "def fibUsingmatBinExpo(n):\n",
    "    \"\"\"\n",
    "    returns f_n%MOD\n",
    "    \n",
    "    \"\"\"\n",
    "    transform_matrix = matBinExpo([[1,1],[1,0]],n-2)\n",
    "    return transform_matrix[0][0]"
   ]
  },
  {
   "cell_type": "code",
   "execution_count": 16,
   "metadata": {
    "ExecuteTime": {
     "end_time": "2020-12-25T07:35:36.273964Z",
     "start_time": "2020-12-25T07:35:29.094484Z"
    }
   },
   "outputs": [
    {
     "name": "stdout",
     "output_type": "stream",
     "text": [
      "88.1 µs ± 287 ns per loop (mean ± std. dev. of 7 runs, 10000 loops each)\n"
     ]
    }
   ],
   "source": [
    "%%timeit\n",
    "fibUsingmatBinExpo(10000)"
   ]
  },
  {
   "cell_type": "markdown",
   "metadata": {
    "ExecuteTime": {
     "end_time": "2020-12-07T10:58:43.248943Z",
     "start_time": "2020-12-07T10:58:43.246751Z"
    }
   },
   "source": [
    "## Greatest Common Divisor"
   ]
  },
  {
   "cell_type": "markdown",
   "metadata": {},
   "source": [
    "### 1. GCD bruteforce\n",
    "- **Time**: \\\\( O(min(a, b)) \\\\)"
   ]
  },
  {
   "cell_type": "code",
   "execution_count": 18,
   "metadata": {
    "ExecuteTime": {
     "end_time": "2020-12-25T07:36:20.901807Z",
     "start_time": "2020-12-25T07:36:20.894319Z"
    }
   },
   "outputs": [],
   "source": [
    "def gcdBrute(a,b):\n",
    "    m = min(a,b)\n",
    "    gcd = 0\n",
    "    for i in reversed(range(m)):\n",
    "        if a%i ==0 and b%i ==0:\n",
    "            gcd = i\n",
    "            return gcd\n"
   ]
  },
  {
   "cell_type": "code",
   "execution_count": 19,
   "metadata": {
    "ExecuteTime": {
     "end_time": "2020-12-25T07:36:28.980083Z",
     "start_time": "2020-12-25T07:36:21.126299Z"
    }
   },
   "outputs": [
    {
     "name": "stdout",
     "output_type": "stream",
     "text": [
      "9.63 ms ± 236 µs per loop (mean ± std. dev. of 7 runs, 100 loops each)\n"
     ]
    }
   ],
   "source": [
    "%%timeit\n",
    "gcdBrute(120000,223212)"
   ]
  },
  {
   "cell_type": "markdown",
   "metadata": {},
   "source": [
    "### 2.  GCD (Euclid's Algorithm)\n",
    "- \\\\( GCD(A,B) = GCD(B,A\\%B) \\dots (1)\\\\)\n",
    "- **Time**: \\\\(  O(log(max(A,B))) \\\\)"
   ]
  },
  {
   "cell_type": "code",
   "execution_count": 20,
   "metadata": {
    "ExecuteTime": {
     "end_time": "2020-12-25T07:36:28.985062Z",
     "start_time": "2020-12-25T07:36:28.982090Z"
    }
   },
   "outputs": [],
   "source": [
    "def gcdEuclid(a,b):\n",
    "    if b==0:\n",
    "        return a\n",
    "    else:\n",
    "        return gcdEuclid(b,a%b)"
   ]
  },
  {
   "cell_type": "code",
   "execution_count": 21,
   "metadata": {
    "ExecuteTime": {
     "end_time": "2020-12-25T07:36:39.587448Z",
     "start_time": "2020-12-25T07:36:28.987142Z"
    }
   },
   "outputs": [
    {
     "name": "stdout",
     "output_type": "stream",
     "text": [
      "1.31 µs ± 30.6 ns per loop (mean ± std. dev. of 7 runs, 1000000 loops each)\n"
     ]
    }
   ],
   "source": [
    "%%timeit\n",
    "gcdEuclid(120000,223212)"
   ]
  },
  {
   "cell_type": "markdown",
   "metadata": {},
   "source": [
    "### 3. GCD (Extended Euclid's Algorithm)\n",
    "- \\\\( A\\times x + B\\times y = GCD(A,B)  \\tag 1\\\\) where `x` is Modular Multiplicative inverse of `a%b` and `y` is Modular Multiplicative inverse of `b%a`\n",
    "- From Euclidean's, \\\\( GCD(A,B) = GCD(B,A\\%B)  \\tag 2\\\\)\n",
    "- sub (2) in (1),\\\\( B.x1+(A\\%B).y1 = GCD(B,A\\%B)  \\tag 3\\\\)\n",
    "- \\\\( A\\%B = A -\\lfloor{A/B}\\rfloor * B \\tag 4 \\\\)\n",
    "- sub (4) in (1),\\\\(  A.y1 + B.(x1-\\lfloor{A/B}\\rfloor.y1) = GCD(A,B) \\tag 5\\\\)\n",
    "- compare (5) with (1),we get $$\\begin{align} x=y1 \\tag 6\\\\ \n",
    "                                            y=x1-\\lfloor{A/B}\\rfloor.y1 \\tag 7\n",
    "                            \\end{align}$$\n",
    "- we can see that the algorithm ends with \\\\( B=0 \\\\) and \\\\( A=GCD(A,B)\\\\).For these parameters we can easily find coefficients, namely \\\\( GCD(A,B)⋅1+0⋅0=GCD(A,B) \\tag 8\\\\).\n",
    "-\\\\(  x,y = 0,1\\\\)\n",
    "\n",
    "\n",
    "- **Time**: \\\\( O(log(max(A,B))) \\\\)\n",
    "- also used to calculate [Modular-Multiplicative-Inverse](#5.-Modular-Multiplicative-Inverse-(using-extended_euclidean_gcd))\n",
    "\n"
   ]
  },
  {
   "cell_type": "markdown",
   "metadata": {},
   "source": [
    "### 3.1 Recursive(top-down) \n",
    "### 3.1.1 use `%` operator"
   ]
  },
  {
   "cell_type": "code",
   "execution_count": 22,
   "metadata": {
    "ExecuteTime": {
     "end_time": "2020-12-25T07:36:51.488052Z",
     "start_time": "2020-12-25T07:36:51.484074Z"
    },
    "code_folding": []
   },
   "outputs": [],
   "source": [
    "import math\n",
    "def gcdExtendedEuclid(A,B):\n",
    "    \"\"\"\n",
    "    Implements extended Euclidean Algo (Check Page-4 of Ref[1] / Ref[2])\n",
    "    A*x+B*y = GCD(A,B)\n",
    "    returns (gcd,x,y)\n",
    "    \n",
    "    gcd: GCD(A,B)\n",
    "    x: Modular Multiplicative inerse of (A%B) when A,B are coprime (i.e GCD(A,B)=1)\n",
    "    y: Modular Multiplicative inerse of (B%A) when A,B are coprime (i.e GCD(A,B)=1)\n",
    "    \n",
    "    Parameters\n",
    "    ----------\n",
    "    A : value1\n",
    "    B : value2\n",
    "    \n",
    "    \"\"\"\n",
    "    if B == 0:\n",
    "        gcd=A\n",
    "        x=1\n",
    "        y=0\n",
    "    else:\n",
    "        gcd,x,y = gcdExtendedEuclid(B,A%B)\n",
    "        temp = x\n",
    "        x = y\n",
    "        y = temp - math.floor(A/B)*y\n",
    "    return gcd,x,y"
   ]
  },
  {
   "cell_type": "code",
   "execution_count": 23,
   "metadata": {
    "ExecuteTime": {
     "end_time": "2020-12-25T07:36:55.030233Z",
     "start_time": "2020-12-25T07:36:51.720118Z"
    }
   },
   "outputs": [
    {
     "name": "stdout",
     "output_type": "stream",
     "text": [
      "4.07 µs ± 176 ns per loop (mean ± std. dev. of 7 runs, 100000 loops each)\n"
     ]
    }
   ],
   "source": [
    "%%timeit\n",
    "gcdExtendedEuclid(120000,223212)\n"
   ]
  },
  {
   "cell_type": "markdown",
   "metadata": {},
   "source": [
    " ### 3.2.1 avoid `%` operator\n",
    "- \\\\( A\\%B = A -\\lfloor{A/B}\\rfloor * B\\\\)"
   ]
  },
  {
   "cell_type": "code",
   "execution_count": 26,
   "metadata": {
    "ExecuteTime": {
     "end_time": "2020-12-25T07:37:48.329198Z",
     "start_time": "2020-12-25T07:37:48.319564Z"
    }
   },
   "outputs": [],
   "source": [
    "def gcdExtendedEuclidImproved(A,B):\n",
    "    \"\"\"\n",
    "    Implements extended Euclidean Algo (Check Page-4 of Ref[1] / Ref[2])\n",
    "    A*x+B*y = GCD(A,B)\n",
    "    returns (gcd,x,y)\n",
    "    \n",
    "    gcd: GCD(A,B)\n",
    "    x: Modular Multiplicative inerse of (A%B) when A,B are coprime (i.e GCD(A,B)=1)\n",
    "    y: Modular Multiplicative inerse of (B%A) when A,B are coprime (i.e GCD(A,B)=1)\n",
    "    \n",
    "    Parameters\n",
    "    ----------\n",
    "    A : value1\n",
    "    B : value2\n",
    "    \n",
    "    \"\"\"\n",
    "    if B == 0:\n",
    "        gcd=A\n",
    "        x=1\n",
    "        y=0\n",
    "    else:\n",
    "        Q = A//B\n",
    "        gcd,x,y = gcdExtendedEuclidImproved(B,A-Q*B)\n",
    "        temp = x\n",
    "        x = y\n",
    "        y = temp -Q*y\n",
    "    return gcd,x,y\n"
   ]
  },
  {
   "cell_type": "code",
   "execution_count": 27,
   "metadata": {
    "ExecuteTime": {
     "end_time": "2020-12-25T07:37:51.035018Z",
     "start_time": "2020-12-25T07:37:48.613761Z"
    }
   },
   "outputs": [
    {
     "name": "stdout",
     "output_type": "stream",
     "text": [
      "2.97 µs ± 69.9 ns per loop (mean ± std. dev. of 7 runs, 100000 loops each)\n"
     ]
    }
   ],
   "source": [
    "%%timeit\n",
    "gcdExtendedEuclidImproved(120000,223212)"
   ]
  },
  {
   "cell_type": "markdown",
   "metadata": {},
   "source": [
    "### 3.2 Iterative(Bottom-up) and avoid `%`\n"
   ]
  },
  {
   "cell_type": "code",
   "execution_count": 28,
   "metadata": {
    "ExecuteTime": {
     "end_time": "2020-12-25T07:40:34.117641Z",
     "start_time": "2020-12-25T07:40:34.111522Z"
    }
   },
   "outputs": [],
   "source": [
    "def gcdExtendedEuclidImprovedIterative(A,B):\n",
    "    \"\"\"\n",
    "    Implements extended Euclidean Algo (Check Page-4 of Ref[1] / Ref[2])\n",
    "    A*x+B*y = GCD(A,B)\n",
    "    returns (gcd,x,y)\n",
    "    \n",
    "    a1: GCD(A,B)\n",
    "    x: Modular Multiplicative inerse of (A%B) when A,B are coprime (i.e GCD(A,B)=1)\n",
    "    y: Modular Multiplicative inerse of (B%A) when A,B are coprime (i.e GCD(A,B)=1)\n",
    "    \n",
    "    Parameters\n",
    "    ----------\n",
    "    A : value1\n",
    "    B : value2\n",
    "    \n",
    "    \"\"\"\n",
    "    x=1;y=0;x1=0;y1=1;\n",
    "    while B>0:\n",
    "        q = A//B\n",
    "        x,x1 = x1,x-q*x1\n",
    "        y,y1 = y1,y-q*y1\n",
    "        A,B = B,A-q*B\n",
    "    return (A,x,y)"
   ]
  },
  {
   "cell_type": "code",
   "execution_count": 29,
   "metadata": {
    "ExecuteTime": {
     "end_time": "2020-12-25T07:40:37.112457Z",
     "start_time": "2020-12-25T07:40:35.066743Z"
    }
   },
   "outputs": [
    {
     "name": "stdout",
     "output_type": "stream",
     "text": [
      "2.51 µs ± 63.4 ns per loop (mean ± std. dev. of 7 runs, 100000 loops each)\n"
     ]
    }
   ],
   "source": [
    "%%timeit\n",
    "gcdExtendedEuclidImprovedIterative(120000,223212)"
   ]
  },
  {
   "cell_type": "markdown",
   "metadata": {},
   "source": [
    "## Modular Multiplicative Inverse"
   ]
  },
  {
   "cell_type": "markdown",
   "metadata": {},
   "source": [
    "### Note: An inverse exists only when A and C are coprime i.e GCD(A,C)=1"
   ]
  },
  {
   "cell_type": "markdown",
   "metadata": {},
   "source": [
    "### 1. Modular Multiplicative Inverse (Naive Approach)\n",
    "- **Time**: O(C)\n"
   ]
  },
  {
   "cell_type": "code",
   "execution_count": 30,
   "metadata": {
    "ExecuteTime": {
     "end_time": "2020-12-25T07:40:55.178526Z",
     "start_time": "2020-12-25T07:40:55.174877Z"
    }
   },
   "outputs": [],
   "source": [
    "def modInverseBrute(A,C):\n",
    "    \"\"\"\n",
    "    returns Modular Multiplicative Inverse (A*B)%C=1 where B=A**-1 and B should be in [1,C-1]\n",
    "    uses BruteForce Approach\n",
    "    \n",
    "    Parameters\n",
    "    ----------\n",
    "    A : value\n",
    "    C : Mod value\n",
    "    \"\"\"\n",
    "    A = A%C\n",
    "    for B in range(1,C):\n",
    "        if (A*B)%C == 1:\n",
    "            return B\n",
    "        "
   ]
  },
  {
   "cell_type": "code",
   "execution_count": 31,
   "metadata": {
    "ExecuteTime": {
     "end_time": "2020-12-25T07:40:59.661025Z",
     "start_time": "2020-12-25T07:40:55.377705Z"
    }
   },
   "outputs": [
    {
     "name": "stdout",
     "output_type": "stream",
     "text": [
      "52.7 µs ± 1.42 µs per loop (mean ± std. dev. of 7 runs, 10000 loops each)\n"
     ]
    }
   ],
   "source": [
    "%%timeit\n",
    "modInverseBrute(1007,1009)"
   ]
  },
  {
   "cell_type": "markdown",
   "metadata": {},
   "source": [
    "### 2. Modular Multiplicative Inverse (using [extended_euclidean_gcd](#3.-GCD-(Extended-Euclid's-Algorithm)))\n",
    "- **Time**: \\\\( O(log(max(A,C))) \\\\)"
   ]
  },
  {
   "cell_type": "code",
   "execution_count": 37,
   "metadata": {
    "ExecuteTime": {
     "end_time": "2020-12-25T07:42:57.152569Z",
     "start_time": "2020-12-25T07:42:57.149401Z"
    }
   },
   "outputs": [],
   "source": [
    "def modInverseUsingEEA(A,C):\n",
    "    \"\"\"\n",
    "    returns Modular Multiplicative Inverse (A*B)%C=1 where B=A**-1 and B should be in [1,C-1]\n",
    "    uses extended Euclidean algo \n",
    "    \n",
    "    Parameters\n",
    "    ----------\n",
    "    A : value\n",
    "    C : Mod value\n",
    "    \n",
    "    \"\"\"\n",
    "    _,x,_ = gcdExtendedEuclidImprovedIterative(A,C)\n",
    "    return (x%C+C)%C # because x could be negative (Check Page-3 of Ref[1]/ Ref[2]-> Extended Euclidean algorithm)\n",
    "    \n",
    "    "
   ]
  },
  {
   "cell_type": "code",
   "execution_count": 38,
   "metadata": {
    "ExecuteTime": {
     "end_time": "2020-12-25T07:43:08.755340Z",
     "start_time": "2020-12-25T07:42:57.630180Z"
    }
   },
   "outputs": [
    {
     "name": "stdout",
     "output_type": "stream",
     "text": [
      "1.36 µs ± 30.2 ns per loop (mean ± std. dev. of 7 runs, 1000000 loops each)\n"
     ]
    }
   ],
   "source": [
    "%%timeit\n",
    "modInverseUsingEEA(1007,1009)"
   ]
  },
  {
   "cell_type": "markdown",
   "metadata": {
    "ExecuteTime": {
     "end_time": "2020-12-25T04:25:02.133819Z",
     "start_time": "2020-12-25T04:25:02.127217Z"
    }
   },
   "source": [
    "### 3. Modular Multiplicative Inverse (using `Fermat's Little Theorem`) ,uses [modularExponentiation](#Modular-Exponentiation))\n",
    "- **Time**: \n",
    "    - \\\\( O(log(m)) \\\\) when `n` is prime\n",
    "    - when `n` is not prime,depends on time of `factorization`\n",
    "- Ref[3] for **fermat's theorem**\n",
    " \\\\( a^{\\phi(m)}\\equiv 1\\mod m \\tag{Euler theorem}\\\\)\n",
    " **Fermat's Theorem**: **when `m` is prime**,you can sub  \\\\( \\phi(m)=m-1 \\\\).so that gives us\n",
    " \\\\( a^{m-1}\\equiv 1\\mod m \\tag{Fermat's little trick} \\\\) \n",
    " \\\\( if a\\equiv b\\mod m,\\text{ then }ac\\equiv bc \\mod m \\tag{ using Scaling of Modulo equivalence relation} \\\\)\n",
    " Multiply \\\\(a^{-1} \\\\) both sides,we get\n",
    " \\\\( a^{m-2}\\equiv a^{-1} \\mod m \\tag{}\\\\) \n",
    "- **When `n` is not prime**,you should calculate \\\\( \\phi(m) \\\\) and multiply \\\\( a^{-1}\\\\) on both sides,you can check how to calculate \\\\( \\phi(m) \\\\) in `Basic-Math-2.ipynb`"
   ]
  },
  {
   "cell_type": "code",
   "execution_count": 39,
   "metadata": {
    "ExecuteTime": {
     "end_time": "2020-12-25T07:43:59.867002Z",
     "start_time": "2020-12-25T07:43:59.864277Z"
    }
   },
   "outputs": [],
   "source": [
    "def modInverseFermat(A,C):\n",
    "    return modularExponentiationIterative(A,C-2,C)"
   ]
  },
  {
   "cell_type": "code",
   "execution_count": 40,
   "metadata": {
    "ExecuteTime": {
     "end_time": "2020-12-25T07:44:03.823947Z",
     "start_time": "2020-12-25T07:44:00.092425Z"
    }
   },
   "outputs": [
    {
     "name": "stdout",
     "output_type": "stream",
     "text": [
      "4.58 µs ± 89.1 ns per loop (mean ± std. dev. of 7 runs, 100000 loops each)\n"
     ]
    }
   ],
   "source": [
    "%%timeit\n",
    "modInverseFermat(1007,1009)"
   ]
  },
  {
   "cell_type": "markdown",
   "metadata": {},
   "source": [
    "### 4.Finding the modular inverse for every number modulo m \n",
    "- **Source: https://cp-algorithms.com/algebra/module-inverse.html**\n",
    "- **Time**: \\\\( O(mlog(m))\\\\)\n",
    "- **For i>1**\n",
    "![Proof](./assets/images/every_num_inverse_proof.png)"
   ]
  },
  {
   "cell_type": "code",
   "execution_count": 41,
   "metadata": {
    "ExecuteTime": {
     "end_time": "2020-12-25T07:45:13.868937Z",
     "start_time": "2020-12-25T07:45:13.863643Z"
    }
   },
   "outputs": [],
   "source": [
    "def modInversesTill(m):\n",
    "    inv = [1]*m\n",
    "    inv[1] = 1\n",
    "    for i in range(2,m):\n",
    "         inv[i] = m-(m//i)*inv[m%i]%m\n",
    "    return inv"
   ]
  },
  {
   "cell_type": "markdown",
   "metadata": {},
   "source": [
    "##  Refereces\n",
    "1. Notes (Modular Arithmetic)\n",
    "2. https://www.hackerearth.com/practice/math/number-theory/basic-number-theory-1/tutorial/\n",
    "3. https://en.wikipedia.org/wiki/Fermat%27s_little_theorem\n",
    "4. https://www.khanacademy.org/computing/computer-science/cryptography/modarithmetic/a/the-euclidean-algorithm"
   ]
  },
  {
   "cell_type": "code",
   "execution_count": null,
   "metadata": {},
   "outputs": [],
   "source": []
  }
 ],
 "metadata": {
  "kernelspec": {
   "display_name": "Python 3",
   "language": "python",
   "name": "python3"
  },
  "language_info": {
   "codemirror_mode": {
    "name": "ipython",
    "version": 3
   },
   "file_extension": ".py",
   "mimetype": "text/x-python",
   "name": "python",
   "nbconvert_exporter": "python",
   "pygments_lexer": "ipython3",
   "version": "3.8.5"
  }
 },
 "nbformat": 4,
 "nbformat_minor": 4
}
