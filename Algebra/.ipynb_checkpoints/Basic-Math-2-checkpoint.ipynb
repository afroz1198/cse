{
 "cells": [
  {
   "cell_type": "markdown",
   "metadata": {},
   "source": [
    "# Contents\n",
    "- [Prime-Numbers](#Prime-Numbers)\n",
    "-[Primality Tests(External)](https://cp-algorithms.com/algebra/primality_tests.html)\n",
    "-[Sieve of Eratosthenes](#3.-Sieve-of-Eratosthenes)\n",
    "- [Factorization](#Factorization)\n",
    "-[Number-Theoretic-Functions](#Number-Theoretic-Functions)\n",
    "    - [No.of-Divisors of a Number](#1.No.of-Divisors)\n",
    "    - [Sum of Divisors of a Number](#2.Sum-of-Divisors)"
   ]
  },
  {
   "cell_type": "markdown",
   "metadata": {},
   "source": [
    "## Prime Numbers"
   ]
  },
  {
   "cell_type": "markdown",
   "metadata": {},
   "source": [
    "### 1.Check Prime(Naive Approach)\n",
    "- **Time**: \\\\( O(n) \\\\)"
   ]
  },
  {
   "cell_type": "code",
   "execution_count": 24,
   "metadata": {
    "ExecuteTime": {
     "end_time": "2020-12-20T14:02:42.094021Z",
     "start_time": "2020-12-20T14:02:42.090479Z"
    }
   },
   "outputs": [],
   "source": [
    "def checkPrimeBrute(n):\n",
    "    count =0\n",
    "    for i in range(1,n+1):\n",
    "        if n%i == 0:\n",
    "            count += 1\n",
    "    if count==2:\n",
    "        return True\n",
    "    else:\n",
    "        return False"
   ]
  },
  {
   "cell_type": "code",
   "execution_count": 25,
   "metadata": {
    "ExecuteTime": {
     "end_time": "2020-12-20T14:02:48.086786Z",
     "start_time": "2020-12-20T14:02:42.096809Z"
    }
   },
   "outputs": [
    {
     "name": "stdout",
     "output_type": "stream",
     "text": [
      "73.2 µs ± 2.38 µs per loop (mean ± std. dev. of 7 runs, 10000 loops each)\n"
     ]
    }
   ],
   "source": [
    "%%timeit\n",
    "checkPrimeBrute(1009)"
   ]
  },
  {
   "cell_type": "markdown",
   "metadata": {},
   "source": [
    "### 2. Check Prime (Better Approach)\n",
    "* **Why \\\\( \\sqrt{n}?? \\\\)** \n",
    "    - If `n` is prime,then `n` can be factored into two factors `a` and `b`\n",
    "    - Now,`a` and `b` can't be both greater than \\\\( \\sqrt{n} \\\\)  since  \\\\( a \\times b \\ngtr \\sqrt{n}\\times \\sqrt{n}\\\\).\n",
    "    - So in any factorization of `n`, `at least one` of the factors must be `smaller` than the \\\\( \\sqrt{n} \\\\), and if we can't find any factors less than or equal to the \\\\( \\sqrt{n} \\\\), `n` must be a **prime**.\n",
    "* **Lemma 1**:\n",
    "    - If \\\\( n,d > 0 \\text{ such that } n\\bmod d=0 \\text{ and } d \\leq \\sqrt{n} \\\\),then following are `true`:\n",
    "        - \\\\( {n \\over d} \\text{ > } \\sqrt{n}\\\\)\n",
    "        - \\\\( n\\bmod {{n \\over d}} \\text{ = } 0\\\\)\n",
    "- **Time**: \\\\(O(\\sqrt n) \\\\)"
   ]
  },
  {
   "cell_type": "code",
   "execution_count": 21,
   "metadata": {
    "ExecuteTime": {
     "end_time": "2020-12-22T06:45:33.437905Z",
     "start_time": "2020-12-22T06:45:33.435137Z"
    },
    "code_folding": []
   },
   "outputs": [],
   "source": [
    "def checkPrimeImproved(n):\n",
    "    count =0 \n",
    "    d=1\n",
    "    while d*d<=n:\n",
    "        if n%d == 0:\n",
    "            if d*d == n: # sqrt(25) = 5*5,so count only one factor,avoid redundancy\n",
    "                count += 1 \n",
    "            else:\n",
    "                count += 2 # Lemma 1 ,counting  i,n/i\n",
    "        d += 1\n",
    "    if count==2:\n",
    "        return True\n",
    "    else:\n",
    "        return False"
   ]
  },
  {
   "cell_type": "code",
   "execution_count": 22,
   "metadata": {
    "ExecuteTime": {
     "end_time": "2020-12-22T06:45:36.359560Z",
     "start_time": "2020-12-22T06:45:34.332914Z"
    }
   },
   "outputs": [
    {
     "name": "stdout",
     "output_type": "stream",
     "text": [
      "2.51 µs ± 99.2 ns per loop (mean ± std. dev. of 7 runs, 100000 loops each)\n"
     ]
    }
   ],
   "source": [
    "%%timeit\n",
    "checkPrimeImproved(1009)"
   ]
  },
  {
   "cell_type": "markdown",
   "metadata": {},
   "source": [
    "### 3. Sieve of Eratosthenes \n",
    "- Mark all the numbers as prime numbers except `1`\n",
    "- Traverse over each prime numbers < \\\\( \\sqrt{n} \\\\)\n",
    "- For each prime number, mark its `multiples as composite numbers`\n",
    "- Numbers, which are not the multiples of any number, will remain marked as prime number and others will change to composite numbers.\n",
    "- **Time**: \n",
    "    - if d =2,inner loop runs n/2 times\n",
    "    - if d =3,inner loop runs n/3 times\n",
    "    - if d =5,inner loop runs n/5 times\n",
    "    - so,\\\\( n\\times ({ {1 \\over 2} +{ 1\\over 3} + {1\\over 5} + \\dotso)  } \\\\)\n",
    "    - \\\\(O(nlog(logn)) \\\\)"
   ]
  },
  {
   "cell_type": "code",
   "execution_count": 27,
   "metadata": {
    "ExecuteTime": {
     "end_time": "2020-12-22T06:47:47.892155Z",
     "start_time": "2020-12-22T06:47:47.889239Z"
    }
   },
   "outputs": [],
   "source": [
    "def sieveMask(n):\n",
    "    \"\"\"\n",
    "    Sieve of Eratosthenes\n",
    "    returns Prime number boolean Mask of length n\n",
    "    \n",
    "    Parameters\n",
    "    ----------\n",
    "    n: integer value\n",
    "    \n",
    "    \"\"\"\n",
    "    isPrime = [True]*(n+1)\n",
    "    isPrime[0],isPrime[1] = False,False\n",
    "    d = 2\n",
    "    while d*d<=n:\n",
    "        if isPrime[d]:\n",
    "            # Mark all the multiples of d as composite numbers (# sieve of eratosthenes)\n",
    "            j = d*d\n",
    "            while j<=n:\n",
    "                isPrime[j] = False\n",
    "                j += d  \n",
    "        d += 1\n",
    "    return isPrime"
   ]
  },
  {
   "cell_type": "code",
   "execution_count": 28,
   "metadata": {
    "ExecuteTime": {
     "end_time": "2020-12-22T06:47:59.864723Z",
     "start_time": "2020-12-22T06:47:51.124188Z"
    }
   },
   "outputs": [
    {
     "name": "stdout",
     "output_type": "stream",
     "text": [
      "10.8 ms ± 262 µs per loop (mean ± std. dev. of 7 runs, 100 loops each)\n"
     ]
    }
   ],
   "source": [
    "%%timeit\n",
    "sieveMask(100000)"
   ]
  },
  {
   "cell_type": "markdown",
   "metadata": {},
   "source": [
    "## Factorization"
   ]
  },
  {
   "cell_type": "markdown",
   "metadata": {},
   "source": [
    "## Note: Any composite number is product of two or more Prime numbers"
   ]
  },
  {
   "cell_type": "markdown",
   "metadata": {},
   "source": [
    "### 1. Factorization using [Better Approach](#2.-Check-Prime-(Better-Approach))\n",
    "- **Time**: \\\\( O(\\sqrt{n})\\\\)\n",
    "- **Note**: This approach is useful when you need to factorize `very-large numbers`"
   ]
  },
  {
   "cell_type": "code",
   "execution_count": 58,
   "metadata": {
    "ExecuteTime": {
     "end_time": "2020-12-22T07:17:19.108418Z",
     "start_time": "2020-12-22T07:17:19.105645Z"
    }
   },
   "outputs": [],
   "source": [
    "def factorize(n):\n",
    "    \"\"\"\n",
    "    returns factors/prime factors of n\n",
    "    \n",
    "    \"\"\"\n",
    "    factors = []\n",
    "    d=2\n",
    "    while d*d <= n: \n",
    "        while n%d == 0:\n",
    "            factors.append(d)\n",
    "            n //= d # similar to lcm reduction\n",
    "        d += 1\n",
    "    if n != 1:\n",
    "        factors.append(n)\n",
    "    return factors\n",
    "        "
   ]
  },
  {
   "cell_type": "code",
   "execution_count": 36,
   "metadata": {
    "ExecuteTime": {
     "end_time": "2020-12-20T14:16:15.812187Z",
     "start_time": "2020-12-20T14:16:03.984003Z"
    }
   },
   "outputs": [
    {
     "name": "stdout",
     "output_type": "stream",
     "text": [
      "146 µs ± 2.43 µs per loop (mean ± std. dev. of 7 runs, 10000 loops each)\n"
     ]
    }
   ],
   "source": [
    "%%timeit\n",
    "for num in [1824698,1000000]:\n",
    "    factorize(num)"
   ]
  },
  {
   "cell_type": "markdown",
   "metadata": {},
   "source": [
    "### 2. Wheel Factorization\n",
    "- **Method**:\n",
    "    - Once we know that the number is not divisible by `2`, we `don't need` to check every other even number. This leaves us with only `50%` of the numbers to check. After checking 2, we can simply `start with 3 and skip every other number(which are multiples of 2)`.\n",
    "    - We can extend this further,If the number is not divisible by `3`, we can also `ignore all other multiples of 3` in the future computations.\n",
    "    - So we only need to check the numbers `5,7,11,13,17,19,23,29`.\n",
    "    - If we observe the pattern of these numbers,it will be `dmod6=1` and `dmod6=5`\n",
    "- **Time**: \\\\( \\theta\\left({n\\over{loglogn}}\\right)\\\\)\n",
    "- **Note**: This approach is useful when you need to factorize `very-large numbers`"
   ]
  },
  {
   "cell_type": "code",
   "execution_count": 3,
   "metadata": {
    "ExecuteTime": {
     "end_time": "2020-12-25T07:56:47.191121Z",
     "start_time": "2020-12-25T07:56:47.186185Z"
    }
   },
   "outputs": [],
   "source": [
    "def factorizeWheel(n):\n",
    "    factors = []\n",
    "    for d in [2,3,5]:\n",
    "        while n%d == 0:\n",
    "            factors.append(d)\n",
    "            n /= d\n",
    "    increments = [4, 2, 4, 2, 4, 6, 2, 6] #increments to get next prime number\n",
    "    i=0 # access increments values by this index \n",
    "    d=7 #start from 7,as 5 is completed\n",
    "    while d*d<=n:\n",
    "        while n%d == 0:\n",
    "            factors.append(d)\n",
    "            n /= d\n",
    "        i += 1\n",
    "        if i == 8:\n",
    "            i = 0\n",
    "        d += increments[i]\n",
    "    if n>1:\n",
    "        factors.append(n)\n",
    "    return factors"
   ]
  },
  {
   "cell_type": "code",
   "execution_count": 4,
   "metadata": {
    "ExecuteTime": {
     "end_time": "2020-12-25T07:56:54.570330Z",
     "start_time": "2020-12-25T07:56:47.419847Z"
    }
   },
   "outputs": [
    {
     "name": "stdout",
     "output_type": "stream",
     "text": [
      "88.5 µs ± 4.55 µs per loop (mean ± std. dev. of 7 runs, 10000 loops each)\n"
     ]
    }
   ],
   "source": [
    "%%timeit\n",
    "for num in [1824698,1000000]:\n",
    "    factorizeWheel(num)"
   ]
  },
  {
   "cell_type": "markdown",
   "metadata": {},
   "source": [
    "### 3. Factorization using [Sieve of Eratosthenes (Precomputed primes)](#3.-Sieve-of-Eratosthenes)\n",
    "- **Time**: \\\\( \\theta(nloglogn)\\\\)\n",
    "- **Space**: \\\\(O(n) \\\\)\n",
    "- **Note**: This approach is useful when you need to factorize `not-very-large numbers`"
   ]
  },
  {
   "cell_type": "code",
   "execution_count": 35,
   "metadata": {
    "ExecuteTime": {
     "end_time": "2020-12-22T07:09:02.379695Z",
     "start_time": "2020-12-22T07:09:02.374902Z"
    }
   },
   "outputs": [],
   "source": [
    "def buildMinPrimeStore(n):\n",
    "    \"\"\"\n",
    "    returns factors/prime factors of n using sieve of eratosthenes\n",
    "    \n",
    "    \"\"\"\n",
    "    minPrime = [0]*(n+1)\n",
    "    minPrime[0],minPrime[1] = 1,1\n",
    "    d=2\n",
    "    while d*d <= n:\n",
    "        if minPrime[d] == 0:\n",
    "            # Mark all the multiples of i with minPrime as \"i\" (# sieve of eratosthenes)\n",
    "            j=d*d\n",
    "            while j<=n:\n",
    "                if minPrime[j] == 0:                    \n",
    "                    minPrime[j]=d\n",
    "                j += d\n",
    "        d += 1\n",
    "    # all prime numbers are divisible by 1,itself.1 is not prime,so adding \"itself\"\n",
    "    for i in range(2,n+1):\n",
    "        if minPrime[i] == 0:\n",
    "            minPrime[i] = i\n",
    "    return minPrime"
   ]
  },
  {
   "cell_type": "code",
   "execution_count": 39,
   "metadata": {
    "ExecuteTime": {
     "end_time": "2020-12-22T07:10:47.727823Z",
     "start_time": "2020-12-22T07:10:47.724151Z"
    }
   },
   "outputs": [],
   "source": [
    "def factorizeSieve(n): \n",
    "    minPrime = buildMinPrimeStore(n)\n",
    "    factors=[]\n",
    "    while n>1:\n",
    "        factors.append(minPrime[n])\n",
    "        n //= minPrime[n]\n",
    "    return factors"
   ]
  },
  {
   "cell_type": "code",
   "execution_count": 37,
   "metadata": {
    "ExecuteTime": {
     "end_time": "2020-12-22T07:09:16.311915Z",
     "start_time": "2020-12-22T07:09:11.323207Z"
    }
   },
   "outputs": [
    {
     "name": "stdout",
     "output_type": "stream",
     "text": [
      "623 ms ± 18.3 ms per loop (mean ± std. dev. of 7 runs, 1 loop each)\n"
     ]
    }
   ],
   "source": [
    "%%timeit\n",
    "for num in [1824698,1000000]:\n",
    "    factorizeSieve(num)"
   ]
  },
  {
   "cell_type": "markdown",
   "metadata": {},
   "source": [
    "## Number Theoretic Functions"
   ]
  },
  {
   "cell_type": "markdown",
   "metadata": {},
   "source": [
    "- **Count of Divisors:**\n",
    "    - If factorization of `N` is \\\\( p_1^{q_1}*p_2^{q_2}*p_3^{q_3}...p_k^{q_k}\\\\) where \\\\(p_1,p_2,p_3,..p_k \\\\)are `prime factors of N` and \\\\(q_1,q_2,q_3...q_k\\\\) are respective powers of prime factors,then `N` has \\\\((q_1+1)*(q_2+2)*(q_3+3)*...*(q_k+k)\\\\) `distinct divisors`.\n",
    "- **Sum of Divisors:**\n",
    "    - Assume `N` has just one prime factors \\\\( p_1^{q_1}\\\\),then sum is\n",
    "    $$\\begin{align} 1+p_1^1+p_1^2\\dots+p_1^{q_1} = \\frac{p_1^{q_1+1} -1}{p_1-1}\\end{align}$$\n",
    "    - Assume `N` has two prime factors \\\\( p_1^{q_1},p_2^{q_2}\\\\),then sum is\n",
    "    $$\\begin{align} (1+p_1^1+p_1^2\\dots+p_1^{q_1}).(1+p_2^1+p_2^2\\dots+p_2^{q_2}) = \\frac{p_1^{q_1+1} -1}{p_1-1}.\\frac{p_2^{q_2+1} -1}{p_2-1}\\end{align}$$\n",
    "    - so,If `N` has `k` factors,then sum would be\n",
    "    $$\\begin{align} (1+p_1^1+p_1^2\\dots+p_1^{q_1}).(1+p_2^1+p_2^2\\dots+p_2^{q_2})\\dots(1+p_k^1+p_k^2\\dots+p_k^{q_k}) = \\frac{p_1^{q_1+1} -1}{p_1-1}.\\frac{p_2^{q_2+1} -1}{p_2-1}\\cdots\\frac{p_k^{q_k+1} -1}{p_k-1}\\end{align}$$\n",
    "    "
   ]
  },
  {
   "cell_type": "markdown",
   "metadata": {},
   "source": [
    "### 1.No.of Divisors\n",
    "- **Note**: use **Wheel Factorization for fast computation**"
   ]
  },
  {
   "cell_type": "code",
   "execution_count": 5,
   "metadata": {
    "ExecuteTime": {
     "end_time": "2020-12-25T07:56:54.575885Z",
     "start_time": "2020-12-25T07:56:54.572250Z"
    }
   },
   "outputs": [],
   "source": [
    "from collections import Counter\n",
    "from functools import reduce\n",
    "def NoOfDivisors(n):\n",
    "    \"\"\"\n",
    "    Based on above fact\n",
    "    returns no_of divisors including 1,itself\n",
    "    \"\"\"\n",
    "    factors = factorizeWheel(n)\n",
    "    counted = Counter(factors)\n",
    "    for item in counted:\n",
    "        counted[item] += 1\n",
    "    return reduce(lambda x,y:x*y,counted.values(),1)"
   ]
  },
  {
   "cell_type": "code",
   "execution_count": 6,
   "metadata": {
    "ExecuteTime": {
     "end_time": "2020-12-25T07:56:54.591320Z",
     "start_time": "2020-12-25T07:56:54.577906Z"
    }
   },
   "outputs": [
    {
     "data": {
      "text/plain": [
       "6"
      ]
     },
     "execution_count": 6,
     "metadata": {},
     "output_type": "execute_result"
    }
   ],
   "source": [
    "NoOfDivisors(20)\n",
    "#1,2,4,5,10,20"
   ]
  },
  {
   "cell_type": "markdown",
   "metadata": {},
   "source": [
    "### 2.Sum of Divisors "
   ]
  },
  {
   "cell_type": "code",
   "execution_count": 8,
   "metadata": {
    "ExecuteTime": {
     "end_time": "2020-12-25T07:58:03.807462Z",
     "start_time": "2020-12-25T07:58:03.794649Z"
    }
   },
   "outputs": [],
   "source": [
    "from collections import Counter\n",
    "def sumGeometricSeries(a,r,n):\n",
    "    \"\"\"\n",
    "    returns sum of Geometric series \n",
    "    a + ar+ ar^2 + ...+ ar^n=a(r^{n+1}-1)/{r-1} \n",
    "    \"\"\"\n",
    "    if r==1:\n",
    "        raise ArithmeticError(\"r should be > 1\")\n",
    "    numerator = a*(r**(n+1) -1)\n",
    "    denomerator = r-1\n",
    "    return numerator//denomerator\n",
    "def sumOfDivisors(n):\n",
    "    \"\"\"\n",
    "    based above Facts\n",
    "    returns sum of all divisors including 1,itself\n",
    "    \"\"\"\n",
    "    factors = factorizeWheel(n)\n",
    "    counted = Counter(factors)\n",
    "    result = 1\n",
    "    for item in counted.items():\n",
    "        result *= sumGeometricSeries(1,item[0],item[1])\n",
    "    return result"
   ]
  },
  {
   "cell_type": "code",
   "execution_count": 9,
   "metadata": {
    "ExecuteTime": {
     "end_time": "2020-12-25T07:58:12.520005Z",
     "start_time": "2020-12-25T07:58:12.515518Z"
    }
   },
   "outputs": [
    {
     "data": {
      "text/plain": [
       "42"
      ]
     },
     "execution_count": 9,
     "metadata": {},
     "output_type": "execute_result"
    }
   ],
   "source": [
    "sumOfDivisors(20)\n",
    "# 1+2+4+5+10+20 = 42"
   ]
  },
  {
   "cell_type": "markdown",
   "metadata": {},
   "source": [
    "### 3.Euler Totient Function/Phi function "
   ]
  },
  {
   "cell_type": "markdown",
   "metadata": {},
   "source": [
    "- Euler's totient function, also known as `phi-function ϕ(n)`, counts the number of integers between `1` and `n` inclusive, which are `coprime to n`.\n",
    "- Here are values of `ϕ(n)` for the first few positive integers:\n",
    "\n",
    "     $$\\begin{array}{|c|c|c|} \\hline \n",
    "        n & 1& 2&3 &4&5&6&7&8&9&10&11&12&13&14&15&16&17&18&19&20 \\\\ \\hline\n",
    "        \\phi(n) & 1 &1&2&2&4&2&6&4&6&4&10&4&12&6&8&8&16&6&18&8\\\\ \\hline\n",
    "        \\end{array}  \n",
    "      $$\n",
    "- **Properties:**\n",
    "    - If `p` is a prime number, then `gcd(p,q)=1` for all `1≤q<p`. Therefore we have:\n",
    "       $$ \\phi(p) = p-1 $$\n",
    "    - If `p` is a prime number and `k≥1`, then there are exactly \\\\( p^k\\over p \\\\) numbers between 1 and \\\\( p^k \\\\) that are divisible by `p`. Which gives us:\n",
    "$$ \\phi(p^k) = p^k - p^{k-1}$$\n",
    "    - If a and b are relatively prime, then:\n",
    "    $$ \\phi(ab) = \\phi(a).\\phi(b) $$ \n",
    "    - Thus, using the first three properties, we can compute `ϕ(n)` through the factorization of `n` (decomposition of `n` into a `product of its prime factors`). If \\\\( n=p_1^{a_1}⋅p_2^{a_2}⋯p_k^{a_k}\\text{ , where }p_i \\\\)are prime factors of `n`,\n",
    "     $$\\begin{align} \n",
    "         \\phi(n) &= \\phi(p_1^{a_1}).\\phi(p_2^{a_2})\\dots\\phi(p_k^{a_k}) \\\\\n",
    "                 &=(p_1^{a_1} - p_1^{a_1-1}).(p_2^{a_2} - p_2^{a_2-1})\\dots (p_k^{a_k} - p_k^{a_k-1}) \\\\\n",
    "                 &= p_1^{a_1}.\\left(1-\\frac{1}{p_1}\\right).p_2^{a_2}.\\left(1-\\frac{1}{p_2}\\right) \\dots p_k^{a_k}.\\left(1-\\frac{1}{p_k}\\right)\\\\\n",
    "                 &= n.\\left(1-\\frac{1}{p_1}\\right).\\left(1-\\frac{1}{p_2}\\right) \\dots \\left(1-\\frac{1}{p_k}\\right)\\\\\n",
    "     \\end{align}$$\n",
    "\n",
    "\n",
    "\n"
   ]
  },
  {
   "cell_type": "markdown",
   "metadata": {},
   "source": [
    "### 3.1 Using [Wheel Factorization](#2.-Wheel-Factorization)"
   ]
  },
  {
   "cell_type": "code",
   "execution_count": 10,
   "metadata": {
    "ExecuteTime": {
     "end_time": "2020-12-25T07:59:17.235936Z",
     "start_time": "2020-12-25T07:59:17.228380Z"
    }
   },
   "outputs": [],
   "source": [
    "def phiWheel(n):\n",
    "    result = n\n",
    "    for d in [2,3,5]:\n",
    "        if n%d == 0:\n",
    "            while n%d == 0:\n",
    "                n /= d\n",
    "            result -= result//d\n",
    "    increments = [4, 2, 4, 2, 4, 6, 2, 6]\n",
    "    i=0 # access increments values by this index \n",
    "    d=7 #start from 7,as 5 is completed\n",
    "    while d*d<=n:\n",
    "        if n%d == 0:\n",
    "            while n%d == 0:\n",
    "                n /= d\n",
    "            result -= result//d\n",
    "        i += 1\n",
    "        if i == 8:\n",
    "            i = 0\n",
    "        d += increments[i]\n",
    "    if n>1:\n",
    "        result -= result//n\n",
    "    return result"
   ]
  },
  {
   "cell_type": "code",
   "execution_count": 11,
   "metadata": {
    "ExecuteTime": {
     "end_time": "2020-12-25T07:59:24.197726Z",
     "start_time": "2020-12-25T07:59:17.465515Z"
    }
   },
   "outputs": [
    {
     "name": "stdout",
     "output_type": "stream",
     "text": [
      "82.4 µs ± 491 ns per loop (mean ± std. dev. of 7 runs, 10000 loops each)\n"
     ]
    }
   ],
   "source": [
    "%%timeit\n",
    "for num in [1824698,1000000]:\n",
    "    phiWheel(num)"
   ]
  },
  {
   "cell_type": "markdown",
   "metadata": {},
   "source": [
    "### 3.2 Using  [Better Approach](#2.-Check-Prime-(Better-Approach))"
   ]
  },
  {
   "cell_type": "code",
   "execution_count": 4,
   "metadata": {
    "ExecuteTime": {
     "end_time": "2020-12-24T12:24:23.514670Z",
     "start_time": "2020-12-24T12:24:23.510954Z"
    }
   },
   "outputs": [],
   "source": [
    "def phi(n):\n",
    "    result=n\n",
    "    d=2\n",
    "    while d*d <= n: \n",
    "        if n%d == 0:\n",
    "            while n%d == 0:\n",
    "                n //=d # similar to lcm reduction\n",
    "            result -= result//d\n",
    "        d += 1\n",
    "    if n > 1:\n",
    "        result -= result//n\n",
    "    return result"
   ]
  },
  {
   "cell_type": "code",
   "execution_count": 76,
   "metadata": {
    "ExecuteTime": {
     "end_time": "2020-12-22T07:23:32.269228Z",
     "start_time": "2020-12-22T07:23:25.497288Z"
    }
   },
   "outputs": [
    {
     "name": "stdout",
     "output_type": "stream",
     "text": [
      "83.6 µs ± 687 ns per loop (mean ± std. dev. of 7 runs, 10000 loops each)\n"
     ]
    }
   ],
   "source": [
    "%%timeit\n",
    "for num in [1824698,1000000]:\n",
    "    phi(num)"
   ]
  },
  {
   "cell_type": "markdown",
   "metadata": {},
   "source": [
    "## Suggestion "
   ]
  },
  {
   "cell_type": "markdown",
   "metadata": {},
   "source": [
    "- It is recommended that you do not build a Sieve to check several numbers for primality. Use the [Check Prime Better Approach](#2.-Check-Prime-(Better-Approach)) instead, which works in \\\\( O(\\sqrt{n} )\\\\)"
   ]
  },
  {
   "cell_type": "markdown",
   "metadata": {},
   "source": [
    "## References\n",
    "1. https://www.hackerearth.com/practice/math/number-theory/basic-number-theory-2/tutorial/\n",
    "2.https://en.wikipedia.org/wiki/Sieve_of_Eratosthenes\n",
    "3. https://cp-algorithms.com/algebra/sieve-of-eratosthenes.html\n",
    "4. https://cp-algorithms.com/algebra/prime-sieve-linear.html\n",
    "5. https://cp-algorithms.com/algebra/factorization.html\n"
   ]
  },
  {
   "cell_type": "code",
   "execution_count": null,
   "metadata": {},
   "outputs": [],
   "source": []
  },
  {
   "cell_type": "code",
   "execution_count": null,
   "metadata": {},
   "outputs": [],
   "source": []
  }
 ],
 "metadata": {
  "kernelspec": {
   "display_name": "Python 3",
   "language": "python",
   "name": "python3"
  },
  "language_info": {
   "codemirror_mode": {
    "name": "ipython",
    "version": 3
   },
   "file_extension": ".py",
   "mimetype": "text/x-python",
   "name": "python",
   "nbconvert_exporter": "python",
   "pygments_lexer": "ipython3",
   "version": "3.8.5"
  }
 },
 "nbformat": 4,
 "nbformat_minor": 4
}
