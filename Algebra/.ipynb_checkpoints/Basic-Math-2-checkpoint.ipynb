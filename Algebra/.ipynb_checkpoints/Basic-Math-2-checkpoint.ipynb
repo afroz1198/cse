{
 "cells": [
  {
   "cell_type": "markdown",
   "metadata": {},
   "source": [
    "# Contents\n",
    "- [Prime-Numbers](#Prime-Numbers)\n",
    "-[Primality Tests(External)](https://cp-algorithms.com/algebra/primality_tests.html)\n",
    "-[Sieve of Eratosthenes](#3.-Sieve-of-Eratosthenes)\n",
    "- [Factorization](#Factorization)\n",
    "-[Facts](#Facts)\n",
    "-[No.of-Divisors of a Number](#No.of-Divisors)\n",
    "-[Sum of Divisors of a Number](#Sum-of-Divisors)"
   ]
  },
  {
   "cell_type": "markdown",
   "metadata": {},
   "source": [
    "## Prime Numbers"
   ]
  },
  {
   "cell_type": "markdown",
   "metadata": {},
   "source": [
    "### 1.Check Prime(Naive Approach)\n",
    "- **Time**: \\\\( O(n) \\\\)"
   ]
  },
  {
   "cell_type": "code",
   "execution_count": 24,
   "metadata": {
    "ExecuteTime": {
     "end_time": "2020-12-20T14:02:42.094021Z",
     "start_time": "2020-12-20T14:02:42.090479Z"
    }
   },
   "outputs": [],
   "source": [
    "def checkPrime(n):\n",
    "    count =0\n",
    "    for i in range(1,n+1):\n",
    "        if n%i == 0:\n",
    "            count += 1\n",
    "    if count==2:\n",
    "        return True\n",
    "    else:\n",
    "        return False"
   ]
  },
  {
   "cell_type": "code",
   "execution_count": 25,
   "metadata": {
    "ExecuteTime": {
     "end_time": "2020-12-20T14:02:48.086786Z",
     "start_time": "2020-12-20T14:02:42.096809Z"
    }
   },
   "outputs": [
    {
     "name": "stdout",
     "output_type": "stream",
     "text": [
      "73.2 µs ± 2.38 µs per loop (mean ± std. dev. of 7 runs, 10000 loops each)\n"
     ]
    }
   ],
   "source": [
    "%%timeit\n",
    "checkPrime(1009)"
   ]
  },
  {
   "cell_type": "markdown",
   "metadata": {},
   "source": [
    "### 2. Check Prime (Better Approach)\n",
    "* **Why \\\\( \\sqrt{n}?? \\\\)** \n",
    "    - If `n` is prime,then `n` can be factored into two factors `a` and `b`\n",
    "    - Now,`a` and `b` can't be both greater than \\\\( \\sqrt{n} \\\\)  since  \\\\( a \\times b \\ngtr \\sqrt{n}\\times \\sqrt{n}\\\\).\n",
    "    - So in any factorization of `n`, `at least one` of the factors must be `smaller` than the \\\\( \\sqrt{n} \\\\), and if we can't find any factors less than or equal to the \\\\( \\sqrt{n} \\\\), `n` must be a **prime**.\n",
    "* **Lemma 1**:\n",
    "    - If \\\\( n,i > 0 \\text{ such that } n\\bmod i=0 \\text{ and } i \\leq \\sqrt{n} \\\\),then \n",
    "        - \\\\( {n \\over i} \\text{ > } \\sqrt{n}\\\\)\n",
    "        - \\\\( n\\bmod {{n \\over i}} \\text{ = } 0\\\\)\n",
    "- **Time**: \\\\(O(\\sqrt n) \\\\)"
   ]
  },
  {
   "cell_type": "code",
   "execution_count": 26,
   "metadata": {
    "ExecuteTime": {
     "end_time": "2020-12-20T14:02:48.092996Z",
     "start_time": "2020-12-20T14:02:48.088785Z"
    },
    "code_folding": []
   },
   "outputs": [],
   "source": [
    "def checkPrime(n):\n",
    "    count =0 \n",
    "    i=1\n",
    "    while i*i<=n:\n",
    "        if n%i == 0:\n",
    "            if i*i == n: # sqrt(25) = 5*5,so count only one factor,avoid redundancy\n",
    "                count += 1 \n",
    "            else:\n",
    "                count += 2 # Lemma 1 ,counting  i,n/i\n",
    "        i += 1\n",
    "    if count==2:\n",
    "        return True\n",
    "    else:\n",
    "        return False"
   ]
  },
  {
   "cell_type": "code",
   "execution_count": 27,
   "metadata": {
    "ExecuteTime": {
     "end_time": "2020-12-20T14:02:51.527682Z",
     "start_time": "2020-12-20T14:02:48.095444Z"
    }
   },
   "outputs": [
    {
     "name": "stdout",
     "output_type": "stream",
     "text": [
      "4.16 µs ± 31.3 ns per loop (mean ± std. dev. of 7 runs, 100000 loops each)\n"
     ]
    }
   ],
   "source": [
    "%%timeit\n",
    "checkPrime(1009)"
   ]
  },
  {
   "cell_type": "markdown",
   "metadata": {},
   "source": [
    "### 3. Sieve of Eratosthenes \n",
    "- Mark all the numbers as prime numbers except `1`\n",
    "- Traverse over each prime numbers < \\\\( \\sqrt{n} \\\\)\n",
    "- For each prime number, mark its `multiples as composite numbers`\n",
    "- Numbers, which are not the multiples of any number, will remain marked as prime number and others will change to composite numbers.\n",
    "- **Time**: \n",
    "    - if i =2,inner loop runs n/2 times\n",
    "    - if i =3,inner loop runs n/3 times\n",
    "    - if i =5,inner loop runs n/5 times\n",
    "    - so,\\\\( n\\times ({ {1 \\over 2} +{ 1\\over 3} + {1\\over 5} + \\dotso)  } \\\\)\n",
    "    - \\\\(O(nlog(logn)) \\\\)"
   ]
  },
  {
   "cell_type": "code",
   "execution_count": 18,
   "metadata": {
    "ExecuteTime": {
     "end_time": "2020-12-20T08:53:54.438739Z",
     "start_time": "2020-12-20T08:53:54.434218Z"
    }
   },
   "outputs": [],
   "source": [
    "def sieve(n):\n",
    "    \"\"\"\n",
    "    Sieve of Eratosthenes\n",
    "    returns Prime number boolean Mask of length n\n",
    "    \n",
    "    Parameters\n",
    "    ----------\n",
    "    n: integer value\n",
    "    \n",
    "    \"\"\"\n",
    "    isPrime = [True]*(n+1)\n",
    "    isPrime[0],isPrime[1] = False,False\n",
    "    i = 2\n",
    "    while i*i<=n:\n",
    "        if isPrime[i]:\n",
    "            # Mark all the multiples of i as composite numbers (# sieve of eratosthenes)\n",
    "            j = i*i\n",
    "            while j<=n:\n",
    "                isPrime[j] = False\n",
    "                j += i  \n",
    "        i += 1\n",
    "    return isPrime"
   ]
  },
  {
   "cell_type": "code",
   "execution_count": 19,
   "metadata": {
    "ExecuteTime": {
     "end_time": "2020-12-20T08:54:03.571150Z",
     "start_time": "2020-12-20T08:53:54.676543Z"
    }
   },
   "outputs": [
    {
     "name": "stdout",
     "output_type": "stream",
     "text": [
      "11 ms ± 495 µs per loop (mean ± std. dev. of 7 runs, 100 loops each)\n"
     ]
    }
   ],
   "source": [
    "%%timeit\n",
    "sieve(100000)"
   ]
  },
  {
   "cell_type": "markdown",
   "metadata": {},
   "source": [
    "## Factorization"
   ]
  },
  {
   "cell_type": "markdown",
   "metadata": {},
   "source": [
    "## Note: Any composite number is product of two or more Prime numbers"
   ]
  },
  {
   "cell_type": "markdown",
   "metadata": {},
   "source": [
    "### 1. Factorization using [Better Approach](#2.-Check-Prime-(Better-Approach))\n",
    "- **Time**: \\\\( O(\\sqrt{n})\\\\)\n",
    "- **Note**: This approach is useful when you need to factorize `very-large numbers`"
   ]
  },
  {
   "cell_type": "code",
   "execution_count": 35,
   "metadata": {
    "ExecuteTime": {
     "end_time": "2020-12-20T14:16:03.112495Z",
     "start_time": "2020-12-20T14:16:03.108696Z"
    }
   },
   "outputs": [],
   "source": [
    "def factorize(n):\n",
    "    \"\"\"\n",
    "    returns factors/prime factors of n\n",
    "    \n",
    "    \"\"\"\n",
    "    factors = []\n",
    "    i=2\n",
    "    while i*i <= n: \n",
    "        while n%i == 0:\n",
    "            factors.append(i)\n",
    "            n //=i # similar to lcm reduction\n",
    "        i += 1\n",
    "    if n != 1:\n",
    "        factors.append(n)\n",
    "    return factors\n",
    "        "
   ]
  },
  {
   "cell_type": "code",
   "execution_count": 36,
   "metadata": {
    "ExecuteTime": {
     "end_time": "2020-12-20T14:16:15.812187Z",
     "start_time": "2020-12-20T14:16:03.984003Z"
    }
   },
   "outputs": [
    {
     "name": "stdout",
     "output_type": "stream",
     "text": [
      "146 µs ± 2.43 µs per loop (mean ± std. dev. of 7 runs, 10000 loops each)\n"
     ]
    }
   ],
   "source": [
    "%%timeit\n",
    "for num in [1824698,1000000]:\n",
    "    factorize(num)"
   ]
  },
  {
   "cell_type": "markdown",
   "metadata": {},
   "source": [
    "### 2. Wheel Factorization\n",
    "- **Method**:\n",
    "    - Once we know that the number is not divisible by `2`, we `don't need` to check every other even number. This leaves us with only `50%` of the numbers to check. After checking 2, we can simply `start with 3 and skip every other number(which are multiples of 2)`.\n",
    "    - We can extend this further,If the number is not divisible by `3`, we can also `ignore all other multiples of 3` in the future computations.\n",
    "    - So we only need to check the numbers `5,7,11,13,17,19,23,29`.\n",
    "    - If we observe the pattern of these numbers,it will be `dmod6=1` and `dmod6=5`\n",
    "- **Time**: \\\\( \\theta\\left({n\\over{loglogn}}\\right)\\\\)\n",
    "- **Note**: This approach is useful when you need to factorize `very-large numbers`"
   ]
  },
  {
   "cell_type": "code",
   "execution_count": 43,
   "metadata": {
    "ExecuteTime": {
     "end_time": "2020-12-20T14:48:35.033628Z",
     "start_time": "2020-12-20T14:48:35.030320Z"
    }
   },
   "outputs": [],
   "source": [
    "def factorize(n):\n",
    "    factors = []\n",
    "    for d in [2,3,5]:\n",
    "        while n%d == 0:\n",
    "            factors.append(d)\n",
    "            n /= d\n",
    "    increments = [4, 2, 4, 2, 4, 6, 2, 6] #increments to get next prime number\n",
    "    i=0\n",
    "    d=7 #start from 7,as 5 is completed\n",
    "    while d*d<=n:\n",
    "        while n%d == 0:\n",
    "            factors.append(d)\n",
    "            n /= d\n",
    "        i += 1\n",
    "        if i == 8:\n",
    "            i = 0\n",
    "        d += increments[i]\n",
    "    if n!=1:\n",
    "        factors.append(n)\n",
    "    return factors"
   ]
  },
  {
   "cell_type": "code",
   "execution_count": 21,
   "metadata": {
    "ExecuteTime": {
     "end_time": "2020-12-20T14:01:52.900148Z",
     "start_time": "2020-12-20T14:01:45.875353Z"
    }
   },
   "outputs": [
    {
     "name": "stdout",
     "output_type": "stream",
     "text": [
      "87 µs ± 2.59 µs per loop (mean ± std. dev. of 7 runs, 10000 loops each)\n"
     ]
    }
   ],
   "source": [
    "%%timeit\n",
    "for num in [1824698,1000000]:\n",
    "    factorize(num)"
   ]
  },
  {
   "cell_type": "markdown",
   "metadata": {},
   "source": [
    "### 3. Factorization using [Sieve of Eratosthenes (Precomputed primes)](#3.-Sieve-of-Eratosthenes)\n",
    "- **Time**: \\\\( \\theta(nloglogn)\\\\)\n",
    "- **Space**: \\\\(O(n) \\\\)\n",
    "- **Note**: This approach is useful when you need to factorize `not-very-large numbers`"
   ]
  },
  {
   "cell_type": "code",
   "execution_count": 37,
   "metadata": {
    "ExecuteTime": {
     "end_time": "2020-12-20T14:39:08.329572Z",
     "start_time": "2020-12-20T14:39:08.322288Z"
    }
   },
   "outputs": [],
   "source": [
    "def buildMinPrimeStore(n):\n",
    "    \"\"\"\n",
    "    returns factors/prime factors of n using sieve of eratosthenes\n",
    "    \n",
    "    \"\"\"\n",
    "    global minPrime;\n",
    "    minPrime = [0]*(n+1)\n",
    "    minPrime[0],minPrime[1] = 1,1\n",
    "    i=2\n",
    "    while i*i <= n:\n",
    "        if minPrime[i] == 0:\n",
    "            # Mark all the multiples of i with minPrime as \"i\" (# sieve of eratosthenes)\n",
    "            j=i*i\n",
    "            while j<=n:\n",
    "                if minPrime[j] == 0:                    \n",
    "                    minPrime[j]=i\n",
    "                j += i\n",
    "        i += 1\n",
    "    # all prime numbers are divisible by 1,itself.1 is not prime,so adding \"itself\"\n",
    "    for i in range(2,n+1):\n",
    "        if minPrime[i] == 0:\n",
    "            minPrime[i] = i"
   ]
  },
  {
   "cell_type": "code",
   "execution_count": 38,
   "metadata": {
    "ExecuteTime": {
     "end_time": "2020-12-20T14:39:08.597340Z",
     "start_time": "2020-12-20T14:39:08.588040Z"
    }
   },
   "outputs": [],
   "source": [
    "def factorize(n):\n",
    "    try:\n",
    "        if len(minPrime) != n+1:\n",
    "            buildMinPrimeStore(n)\n",
    "    except NameError:\n",
    "        buildMinPrimeStore(n)\n",
    "    factors=[]\n",
    "    while n!=1:\n",
    "        factors.append(minPrime[n])\n",
    "        n = n//minPrime[n]\n",
    "    return factors"
   ]
  },
  {
   "cell_type": "code",
   "execution_count": 39,
   "metadata": {
    "ExecuteTime": {
     "end_time": "2020-12-20T14:39:19.504561Z",
     "start_time": "2020-12-20T14:39:09.205157Z"
    }
   },
   "outputs": [
    {
     "name": "stdout",
     "output_type": "stream",
     "text": [
      "1.28 s ± 9.83 ms per loop (mean ± std. dev. of 7 runs, 1 loop each)\n"
     ]
    }
   ],
   "source": [
    "%%timeit\n",
    "for num in [1824698,1000000]:\n",
    "    factorize(num)"
   ]
  },
  {
   "cell_type": "markdown",
   "metadata": {},
   "source": [
    "## Facts"
   ]
  },
  {
   "cell_type": "markdown",
   "metadata": {},
   "source": [
    "- If factorization of `N` is \\\\( p_1^{q_1}*p_2^{q_2}*p_3^{q_3}...p_k^{q_k}\\\\) where \\\\(p_1,p_2,p_3,..p_k \\\\)are `prime factors of N` and \\\\(q_1,q_2,q_3...q_k\\\\) are respective powers of prime factors,then `N` has \\\\((q_1+1)*(q_2+2)*(q_3+3)*...*(q_k+k)\\\\) `distinct divisors`.\n",
    "- **Sum of Divisors**\n",
    "    - Assume `N` has just one prime factors \\\\( p_1^{q_1}\\\\),then sum is\n",
    "    $$\\begin{align} 1+p_1^1+p_1^2\\dots+p_1^{q_1} = \\frac{p_1^{q_1+1} -1}{p_1-1}\\end{align}$$\n",
    "    - Assume `N` has two prime factors \\\\( p_1^{q_1},p_2^{q_2}\\\\),then sum is\n",
    "    $$\\begin{align} (1+p_1^1+p_1^2\\dots+p_1^{q_1}).(1+p_2^1+p_2^2\\dots+p_2^{q_2}) = \\frac{p_1^{q_1+1} -1}{p_1-1}.\\frac{p_2^{q_2+1} -1}{p_2-1}\\end{align}$$\n",
    "    - so,If `N` has `k` factors,then sum would be\n",
    "    $$\\begin{align} (1+p_1^1+p_1^2\\dots+p_1^{q_1}).(1+p_2^1+p_2^2\\dots+p_2^{q_2})\\dots(1+p_k^1+p_k^2\\dots+p_k^{q_k}) = \\frac{p_1^{q_1+1} -1}{p_1-1}.\\frac{p_2^{q_2+1} -1}{p_2-1}\\cdots\\frac{p_k^{q_k+1} -1}{p_k-1}\\end{align}$$\n",
    "    "
   ]
  },
  {
   "cell_type": "markdown",
   "metadata": {},
   "source": [
    "## No.of Divisors\n",
    "- **Note**: use **Wheel Factorization for fast computation**"
   ]
  },
  {
   "cell_type": "code",
   "execution_count": 98,
   "metadata": {
    "ExecuteTime": {
     "end_time": "2020-12-20T15:33:19.989442Z",
     "start_time": "2020-12-20T15:33:19.986441Z"
    }
   },
   "outputs": [],
   "source": [
    "from collections import Counter\n",
    "from functools import reduce\n",
    "def no_of_divs(n):\n",
    "    \"\"\"\n",
    "    Based on above fact\n",
    "    returns no_of divisors including 1,itself\n",
    "    \"\"\"\n",
    "    factors = factorize(n)\n",
    "    counted = Counter(factors)\n",
    "    for item in counted:\n",
    "        counted[item] += 1\n",
    "    return reduce(lambda x,y:x*y,counted.values(),1)"
   ]
  },
  {
   "cell_type": "markdown",
   "metadata": {},
   "source": [
    "## Sum of Divisors "
   ]
  },
  {
   "cell_type": "code",
   "execution_count": 99,
   "metadata": {
    "ExecuteTime": {
     "end_time": "2020-12-20T15:33:59.049718Z",
     "start_time": "2020-12-20T15:33:59.046485Z"
    }
   },
   "outputs": [],
   "source": [
    "from collections import Counter\n",
    "def sum_gp(a,r,n):\n",
    "    \"\"\"\n",
    "    returns sum of Geometric series \n",
    "    a + ar+ ar^2 + ...+ ar^n=a(r^{n+1}-1)/{r-1} \n",
    "    \"\"\"\n",
    "    if r==1:\n",
    "        raise ArithmeticError(\"r should be > 1\")\n",
    "    numerator = a*(r**(n+1) -1)\n",
    "    denomerator = r-1\n",
    "    return numerator//denomerator\n",
    "def sum_divs(n):\n",
    "    \"\"\"\n",
    "    based above Facts\n",
    "    returns sum of all divisors including 1,itself\n",
    "    \"\"\"\n",
    "    factors = factorize(n)\n",
    "    counted = Counter(factors)\n",
    "    result = 1\n",
    "    for item in counted.items():\n",
    "        result *= sum_gp(1,item[0],item[1])\n",
    "    return result"
   ]
  },
  {
   "cell_type": "markdown",
   "metadata": {},
   "source": [
    "## Suggestion "
   ]
  },
  {
   "cell_type": "markdown",
   "metadata": {},
   "source": [
    "- It is recommended that you do not build a Sieve to check several numbers for primality. Use the [Check Prime Better Approach](#2.-Check-Prime-(Better-Approach)) instead, which works in \\\\( O(\\sqrt{n} )\\\\)"
   ]
  },
  {
   "cell_type": "markdown",
   "metadata": {},
   "source": [
    "## References\n",
    "1. https://www.hackerearth.com/practice/math/number-theory/basic-number-theory-2/tutorial/\n",
    "2.https://en.wikipedia.org/wiki/Sieve_of_Eratosthenes\n",
    "3. https://cp-algorithms.com/algebra/sieve-of-eratosthenes.html\n",
    "4. https://cp-algorithms.com/algebra/prime-sieve-linear.html\n",
    "5. https://cp-algorithms.com/algebra/factorization.html\n"
   ]
  },
  {
   "cell_type": "code",
   "execution_count": null,
   "metadata": {},
   "outputs": [],
   "source": []
  },
  {
   "cell_type": "code",
   "execution_count": null,
   "metadata": {},
   "outputs": [],
   "source": []
  }
 ],
 "metadata": {
  "kernelspec": {
   "display_name": "Python 3",
   "language": "python",
   "name": "python3"
  },
  "language_info": {
   "codemirror_mode": {
    "name": "ipython",
    "version": 3
   },
   "file_extension": ".py",
   "mimetype": "text/x-python",
   "name": "python",
   "nbconvert_exporter": "python",
   "pygments_lexer": "ipython3",
   "version": "3.8.5"
  }
 },
 "nbformat": 4,
 "nbformat_minor": 4
}
