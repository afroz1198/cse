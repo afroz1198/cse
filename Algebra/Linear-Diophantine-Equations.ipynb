{
 "cells": [
  {
   "cell_type": "markdown",
   "metadata": {},
   "source": [
    "## Linear DioPhantine equations "
   ]
  },
  {
   "cell_type": "markdown",
   "metadata": {},
   "source": [
    "#### A Linear Diophantine Equation (in two variables) is an equation of the general form:\n",
    "\\\\[ ax+by=c \\tag{1}\\\\]\n",
    "where \\\\( a,b,c \\\\) are given integers and \\\\( x,y\\\\) are unknown integers\n",
    "###### so,we consider several classical problems on these equations:\n",
    "- [Finding one solution](#1.Finding-a-solution)\n",
    "- [finding all solutions](#2.Getting-all-solutions)\n",
    "- [finding the number of solutions and the solutions themselves in a given interval](#3.Finding-the-number-of-solutions-and-the-solutions-in-a-given-interval)\n",
    "- [finding a solution with minimum value of x+y](#4.Find-the-solution-with-minimum-value-of-\\\\(-x+y-\\\\))\n",
    "\n",
    "###### Note: A degenerate case that need to be taken care of is when `a=b=0`. It is easy to see that we either have no solutions or infinitely many solutions, depending on whether c=0 or not."
   ]
  },
  {
   "cell_type": "markdown",
   "metadata": {},
   "source": [
    "### 1.Finding a solution\n",
    "**Method**:\n",
    "To find one solution of the Diophantine equation with 2 unknowns, you can use the Extended Euclidean algorithm. First, assume that a and b are non-negative. When we apply `Extended Euclidean algorithm` for `a` and `b`, we can find their greatest common divisor `g` and 2 numbers \\\\( x_g\\\\) and \\\\( y_g\\\\) such that:\n",
    "\n",
    "\\\\[ ax_g+by_g=g \\tag{2} \\\\] where `g = gcd(a,b)`\n",
    "convert `eq(2)` into `eq(1)` by multiplying `c/g` on bothsides,we get\n",
    "\\\\[ a.x_g.\\left(\\frac{c}{g}\\right)+b.y_g.\\left(\\frac{c}{g}\\right) = c \\\\]\n",
    "so,compare with `eq(1)` \\\\[ x = x_g.\\left(\\frac{c}{g}\\right),y=y_g.\\left(\\frac{c}{g}\\right) \\tag{3}\\\\]"
   ]
  },
  {
   "cell_type": "code",
   "execution_count": 54,
   "metadata": {
    "ExecuteTime": {
     "end_time": "2020-12-26T09:51:38.741786Z",
     "start_time": "2020-12-26T09:51:38.735929Z"
    }
   },
   "outputs": [],
   "source": [
    "from lib.BasicMath1 import gcdExtendedEuclidImprovedIterative"
   ]
  },
  {
   "cell_type": "code",
   "execution_count": 55,
   "metadata": {
    "ExecuteTime": {
     "end_time": "2020-12-26T09:51:39.746014Z",
     "start_time": "2020-12-26T09:51:39.743189Z"
    }
   },
   "outputs": [],
   "source": [
    "def isDegenerateCase(a,b,c):\n",
    "    return True if a==0 and b==0 else False"
   ]
  },
  {
   "cell_type": "code",
   "execution_count": 56,
   "metadata": {
    "ExecuteTime": {
     "end_time": "2020-12-26T09:51:40.295002Z",
     "start_time": "2020-12-26T09:51:40.283919Z"
    }
   },
   "outputs": [],
   "source": [
    "def findAnySolution(a,b,c):\n",
    "    if isDegenerateCase(a,b,c):\n",
    "        return False\n",
    "    (g,x_g,y_g) = gcdExtendedEuclidImprovedIterative(a,b)\n",
    "    if c%g:\n",
    "        return False\n",
    "    x_0 = x_g*(c//g)\n",
    "    y_0 = y_g*(c//g)\n",
    "    if a<0:\n",
    "        x_0 = -x_0\n",
    "    if b<0:\n",
    "        y_0 = -y_0\n",
    "    return (g,x_0,y_0)"
   ]
  },
  {
   "cell_type": "markdown",
   "metadata": {},
   "source": [
    "### 2.Getting all solutions"
   ]
  },
  {
   "cell_type": "markdown",
   "metadata": {},
   "source": [
    "**Method**: From one solution \\\\( (x_0,y_0) \\\\), we can obtain all the solutions of the given equation.\n",
    "- Consider \\\\( ax_0+by_0=c \\text{ and } g=gcd(a,b)\\\\) \n",
    "- Now, we should see that adding b/g to x0, and, at the same time subtracting a/g from y0 will not break the equality:\n",
    "\\\\[ a.\\left(x_0+\\frac{b}{g}\\right) + b.\\left(y_0-\\frac{a}{g}\\right) = a.x_0+b.y_0+a.\\frac{b}{g}-b.\\frac{a}{g}=c\\\\]\n",
    "- Obviously, this process can be repeated again, so all the numbers of the form:\n",
    "\\\\[ x=x_0+k.\\frac{b}{g} \\tag{4}\\\\]\n",
    "\n",
    "\\\\[ y=y_0-k.\\frac{a}{g} \\tag{5}\\\\]\n",
    "are solutions of the given Diophantine equation.since,it can have `k+1` integer pair solutions where `k=[1,infinity)`  "
   ]
  },
  {
   "cell_type": "markdown",
   "metadata": {},
   "source": [
    "### 3.Finding the number of solutions and the solutions in a given interval\n",
    "**Method**:so,it can have `infinte` solutions as per above section.Let's put some restrictions on the interval of `x` and `y`,and we will try to count and enumerate all the solutions.\n",
    "- Let there be two intervals `[minx;maxx]` and `[miny;maxy]`.\n",
    "- Note that if \\\\(a=0/b=0 \\\\),then the problem only has `one solution`.\n",
    "- find any  \\\\( (x,y)\\\\).\n",
    "- we will try to find two `1d` feasible regions on `x` when we shift `x` and `y` independently.\n",
    "- **Region1 (shift x to range end points)**:\n",
    "    - find \\\\( lx1,rx1 \\\\) through shifting \\\\( \\frac{minx-x}{b},\\frac{maxx-x}{b} \\\\) respectively (using `eq(4)`).\n",
    "    - if \\\\( lx1 > maxx \\\\),then we get no solutions in the given Range.\n",
    "- **Region2 (shift y to range end points)**\n",
    "    - find \\\\( lx2,rx2 \\\\) through shifting \\\\( \\frac{-(miny-y)}{a},\\frac{-(maxy-y)}{a}\\\\) respectively (using `eq(5)`).\n",
    "    - if \\\\( lx2 > maxy \\\\),then we get no solutions in the given Range.\n",
    "\n",
    "- Now,All we need is \\\\( Region1 \\cap Region2\\\\) end points \\\\( lx,rx \\\\).\n",
    "- **No.of Solutions**: (from `eq(4)`)\n",
    "\\\\[ \\frac{(rx-lx)}{b}+1 \\tag{6}\\\\]\n",
    "- **Get All solutions**:\n",
    "    - just need to iterate through \\\\( x = lx+k.\\frac{b}{g} \\\\ \\forall   k\\geq 0,\\text{ until } x = rx\\\\)\n",
    "    - find `y` through `eq(1)`"
   ]
  },
  {
   "cell_type": "code",
   "execution_count": 52,
   "metadata": {
    "ExecuteTime": {
     "end_time": "2020-12-26T09:26:07.587644Z",
     "start_time": "2020-12-26T09:26:07.577571Z"
    }
   },
   "outputs": [],
   "source": [
    "def shiftSolution(x_0,y_0,a,b,k):\n",
    "    return x_0+k*b, y_0-k*a\n",
    "\n",
    "def findAllSolutions(a,b,c,minx,maxx,miny,maxy):\n",
    "    if a==0 or b==0:\n",
    "        return 1;\n",
    "    if not findAnySolution(a,b,c):\n",
    "        return 0;\n",
    "    g,x,y = findAnySolution(a,b,c)\n",
    "    \n",
    "    # from eq(4),eq(5),simplifies shiftSolution equations\n",
    "    a //= g;\n",
    "    b //= g;\n",
    "    \n",
    "    sign_a = 1 if a>0 else -1\n",
    "    sign_b = 1 if b>0 else -1\n",
    "    \n",
    "    x,y = shiftSolution(x,y,a,b,(minx-x)//b)\n",
    "    if x < minx:\n",
    "        x,y = shiftSolution(x,y,a,b,sign_b)\n",
    "    if x > maxx:\n",
    "        return 0;\n",
    "    lx1 = x\n",
    "    \n",
    "    x,y = shiftSolution(x,y,a,b,(maxx-x)//b)\n",
    "    if x > maxx:\n",
    "        shiftSolution(x,y,a,b,-sign_b)\n",
    "    rx1 = x\n",
    "    \n",
    "    x,y = shiftSolution(x,y,a,b,-(miny-y)//a)\n",
    "    if y < miny:\n",
    "        x,y = shiftSolution(x,y,a,b,-sign_a)\n",
    "    if y > maxy:        \n",
    "        return 0;\n",
    "    lx2 = x\n",
    "    \n",
    "    x,y = shiftSolution(x,y,a,b,-(maxy-y)//a)\n",
    "    if y > maxy:\n",
    "        x,y  = shiftSolution(x,y,a,b,sign_a)\n",
    "    rx2 = x\n",
    "    \n",
    "    if lx2 > rx2:\n",
    "        temp = lx2;\n",
    "        lx2 = rx2;\n",
    "        rx2 = temp\n",
    "    # Intersection\n",
    "    lx = max(lx1,lx2)\n",
    "    rx = min(rx1,rx2)\n",
    "    \n",
    "    if lx > rx:\n",
    "        return 0;\n",
    "    return (rx-lx)//abs(b)+1;   \n",
    "    "
   ]
  },
  {
   "cell_type": "markdown",
   "metadata": {},
   "source": [
    "### 4.Find the solution with minimum value of \\\\( x+y \\\\) \n",
    "-**Method**:\n",
    "- using `eq(4)`,`eq(5)` ,we can figure out how \\\\( x+y \\\\) changes.\n",
    "\\\\[ x+y = x_0+y_0+k.\\left(\\frac{b}{g}-\\frac{a}{g}\\right) = x_0+y_0+k.\\frac{b-a}{g}\\\\]\n",
    "- **a<b**:\n",
    "    - select smallest possible value of `k`.\n",
    "- **a>b**:\n",
    "    - select largest possible value of `k`.\n",
    "- **a=b**:\n",
    "    - All solutions will have same sum `x+y`,so `k` doesn't matter."
   ]
  }
 ],
 "metadata": {
  "kernelspec": {
   "display_name": "Python 3",
   "language": "python",
   "name": "python3"
  },
  "language_info": {
   "codemirror_mode": {
    "name": "ipython",
    "version": 3
   },
   "file_extension": ".py",
   "mimetype": "text/x-python",
   "name": "python",
   "nbconvert_exporter": "python",
   "pygments_lexer": "ipython3",
   "version": "3.8.5"
  }
 },
 "nbformat": 4,
 "nbformat_minor": 4
}
